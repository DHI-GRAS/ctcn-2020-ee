{
  "nbformat": 4,
  "nbformat_minor": 0,
  "metadata": {
    "colab": {
      "name": "CTCN soil salinity analysis.ipynb",
      "provenance": [],
      "collapsed_sections": [],
      "toc_visible": true,
      "include_colab_link": true
    },
    "kernelspec": {
      "name": "python3",
      "display_name": "Python 3"
    }
  },
  "cells": [
    {
      "cell_type": "markdown",
      "metadata": {
        "id": "view-in-github",
        "colab_type": "text"
      },
      "source": [
        "<a href=\"https://colab.research.google.com/github/buwuyou/CTCN_2020_EE/blob/master/CTCN_soil_salinity_analysis.ipynb\" target=\"_parent\"><img src=\"https://colab.research.google.com/assets/colab-badge.svg\" alt=\"Open In Colab\"/></a>"
      ]
    },
    {
      "cell_type": "markdown",
      "metadata": {
        "id": "ZtJ9VFmb41VX",
        "colab_type": "text"
      },
      "source": [
        "# Introduction\n",
        "This notebook shows how to apply remote sensing techniques on soil salinity mapping, including:\n",
        "1. Long-term Landsat time series preparation\n",
        "2. Calculate Enhanced Salinity Indice\n",
        "3. Apply trend analysis for the period of 1988-2019\n",
        "4. Export the product\n",
        "\n",
        "Prerequisites: CTCN 101 and CTCN time series analysis"
      ]
    },
    {
      "cell_type": "markdown",
      "metadata": {
        "id": "l1uo0LY25iM2",
        "colab_type": "text"
      },
      "source": [
        "### Install, Import, Authenticate and Initialize EE Python API\n",
        "\n",
        "Run the `ee.Authenticate` function to authenticate your access to Earth Engine servers and `ee.Initialize` to initialize it. Upon running the following cell you'll be asked to grant Earth Engine access to your Google account. Follow the instructions printed to the cell."
      ]
    },
    {
      "cell_type": "code",
      "metadata": {
        "id": "hGy6-NnDz84Y",
        "colab_type": "code",
        "colab": {}
      },
      "source": [
        "!pip install -q earthengine-api\n",
        "\n",
        "# Import the Earth Engine library.\n",
        "import ee\n",
        "\n",
        "# Trigger the authentication flow.\n",
        "ee.Authenticate()\n",
        "ee.Initialize()"
      ],
      "execution_count": 0,
      "outputs": []
    },
    {
      "cell_type": "code",
      "metadata": {
        "id": "mwCFvCmu8OHZ",
        "colab_type": "code",
        "colab": {}
      },
      "source": [
        "from pprint import pprint \n",
        "\n",
        "import folium\n",
        "from folium import plugins\n",
        "print(folium.__version__)\n",
        "# Add custom basemaps to folium\n",
        "basemaps = {\n",
        "    'Google Maps': folium.TileLayer(\n",
        "        tiles = 'https://mt1.google.com/vt/lyrs=m&x={x}&y={y}&z={z}',\n",
        "        attr = 'Google',\n",
        "        name = 'Google Maps',\n",
        "        overlay = True,\n",
        "        control = True\n",
        "    ),\n",
        "    'Google Satellite': folium.TileLayer(\n",
        "        tiles = 'https://mt1.google.com/vt/lyrs=s&x={x}&y={y}&z={z}',\n",
        "        attr = 'Google',\n",
        "        name = 'Google Satellite',\n",
        "        overlay = True,\n",
        "        control = True\n",
        "    ),\n",
        "    'Google Terrain': folium.TileLayer(\n",
        "        tiles = 'https://mt1.google.com/vt/lyrs=p&x={x}&y={y}&z={z}',\n",
        "        attr = 'Google',\n",
        "        name = 'Google Terrain',\n",
        "        overlay = True,\n",
        "        control = True\n",
        "    ),\n",
        "    'Google Satellite Hybrid': folium.TileLayer(\n",
        "        tiles = 'https://mt1.google.com/vt/lyrs=y&x={x}&y={y}&z={z}',\n",
        "        attr = 'Google',\n",
        "        name = 'Google Satellite',\n",
        "        overlay = True,\n",
        "        control = True\n",
        "    ),\n",
        "    'Esri Satellite': folium.TileLayer(\n",
        "        tiles = 'https://server.arcgisonline.com/ArcGIS/rest/services/World_Imagery/MapServer/tile/{z}/{y}/{x}',\n",
        "        attr = 'Esri',\n",
        "        name = 'Esri Satellite',\n",
        "        overlay = True,\n",
        "        control = True\n",
        "    )\n",
        "}"
      ],
      "execution_count": 0,
      "outputs": []
    },
    {
      "cell_type": "markdown",
      "metadata": {
        "id": "q25BZ6fO_D6Q",
        "colab_type": "text"
      },
      "source": [
        "# Prepare long-term Landsat time series\n",
        "To understand the code of this session, some essential knowledge on Landsat archive is required, such as the different spectrometers mounted on the satellite. Specifically, since Landsat 8 era, new version of radiometer has been used causing slightly spectral difference in radiation measurements between the old Thematic Mapper radiometers and Operational Land Imager radiometers. To combined the observations, a calibration model is required, which is about the function of **harmonizationRoy**\n",
        "\n",
        "Furthermore, it is a common technique to make a composite image from several images during a certain period to get a cloud-free image. There are sevaral techniques to do so, such as mean, median, and mediod. The adopted method as seasonal mediod composite is optimal for mainting the spectral relationship amongst bands by calcuating an artificial mediod value using the avaialble observations. Check here to understand better: https://www.mdpi.com/2072-4292/5/12/6481 \n",
        "\n",
        "To prepare the long-term Landsat time series, we did it via LandTrendr. [LandTrendr](https://emapr.github.io/LT-GEE/introduction.html) is a set of spectral-temporal segmentation algorithms that are useful for change detection in a time series of moderate resolution satellite imagery (primarily Landsat) and for generating trajectory-based spectral time series data largely absent of inter-annual signal noise. We implement the Landsat annual data preparation part of LandTrendr Earth Engine JavaScript framework into the Earth Engine Python API.\n",
        "\n",
        ">Kennedy, R.E., Yang, Z., Gorelick, N., Braaten, J., Cavalcante, L., Cohen, W.B., Healey, S. (2018). Implementation of the LandTrendr Algorithm on Google Earth Engine. Remote Sensing. 10, 691."
      ]
    },
    {
      "cell_type": "markdown",
      "metadata": {
        "id": "zU3obWqpgX-5",
        "colab_type": "text"
      },
      "source": [
        "### Import functions"
      ]
    },
    {
      "cell_type": "code",
      "metadata": {
        "id": "PppjxCoI_NeM",
        "colab_type": "code",
        "colab": {}
      },
      "source": [
        "# rewrite LandTrendr EE Javascript to EE Python:\n",
        "\n",
        "# Cloud masking function.\n",
        "def maskLsr(image):\n",
        "  cloudShadowBitMask = ee.Number(2).pow(3).int() # cloud shadow\n",
        "  cloudsBitMask = ee.Number(2).pow(5).int() # clouds\n",
        "  qa = image.select('pixel_qa')\n",
        "  mask = qa.bitwiseAnd(cloudShadowBitMask).eq(0).And(\n",
        "    qa.bitwiseAnd(cloudsBitMask).eq(0))\n",
        "  return image.updateMask(mask)\n",
        "\n",
        "#------ L8 to L7 HARMONIZATION FUNCTION -----\n",
        "#slope and intercept citation: Roy, D.P., Kovalskyy, V., Zhgang, H.K., Vermote, E.F., Yan, L., Kumar, S.S, Egorov, A., 2016, Characterization of Landsat-7 to Landsat-8 reflective wavelength and normalized difference vegetation index continuity, Remote Sensing of Environment, 185, 57-70.(http://dx.doi.org/10.1016/j.rse.2015.12.024); Table 2 - reduced major axis (RMA) regression coefficients\n",
        "def harmonizationRoy(oli):\n",
        "  slopes = ee.Image.constant([0.9785, 0.9542, 0.9825, 1.0073, 1.0171, 0.9949])        # RMA - create an image of slopes per band for L8 TO L7 regression line - David Roy\n",
        "  itcp = ee.Image.constant([-0.0095, -0.0016, -0.0022, -0.0021, -0.0030, 0.0029])     # RMA - create an image of y-intercepts per band for L8 TO L7 regression line - David Roy\n",
        "\n",
        "  y = (oli.select(['B2','B3','B4','B5','B6','B7'],['B1', 'B2', 'B3', 'B4', 'B5', 'B7']) # select OLI bands 2-7 and rename them to match L7 band names\n",
        "             .subtract(itcp.multiply(10000)).divide(slopes)                                # ...multiply the y-intercept bands by 10000 to match the scale of the L7 bands then apply the line equation - subtract the intercept and divide by the slope\n",
        "             .set('system:time_start', oli.get('system:time_start')))                     # ...set the output system:time_start metadata to the input image time_start otherwise it is null\n",
        "  return y.toShort()                                                                       # return the image as short to match the type of the other data\n",
        "\n",
        "# ------ FILTER A COLLECTION FUNCTION -----\n",
        "def filterCollection(year, startDay, endDay, sensor, aoi):\n",
        "  return (ee.ImageCollection('LANDSAT/'+ sensor + '/C01/T1_SR')\n",
        "           .filterBounds(aoi)\n",
        "           .filterDate(f'{year}-{startDay}', f'{year}-{endDay}'))\n",
        "\n",
        "# ------ BUILD A COLLECTION FOR A GIVEN SENSOR AND YEAR -----\n",
        "def buildSensorYearCollection(year, startDay, endDay, sensor, aoi):\n",
        "  startMonth = int(startDay[0:2])\n",
        "  endMonth = int(endDay[0:2])\n",
        "  if(startMonth > endMonth):\n",
        "    oldYear = str(int(year)-1)\n",
        "    newYear = year\n",
        "    oldYearStartDay = startDay\n",
        "    oldYearEndDay = '12-31'\n",
        "    newYearStartDay = '01-01'\n",
        "    newYearEndDay = endDay\n",
        "    \n",
        "    oldYearCollection = filterCollection(oldYear, oldYearStartDay, oldYearEndDay, sensor, aoi)\n",
        "    newYearCollection = filterCollection(newYear, newYearStartDay, newYearEndDay, sensor, aoi)\n",
        "    \n",
        "    srCollection = ee.ImageCollection(oldYearCollection.merge(newYearCollection))\n",
        "  else:\n",
        "    srCollection = filterCollection(year, startDay, endDay, sensor, aoi)\n",
        "  \n",
        "  \n",
        "  return srCollection\n",
        "\n",
        "# ------ RETRIEVE A SENSOR SR COLLECTION FUNCTION -----\n",
        "def getSRcollection(year, startDay, endDay, sensor, aoi):\n",
        "  \n",
        "  #  get a landsat collection for given year, day range, and sensor\n",
        "  srCollection = buildSensorYearCollection(year, startDay, endDay, sensor, aoi)\n",
        "  srCollection = srCollection.map(maskLsr)\n",
        "\n",
        "  # apply the harmonization function to LC08 (if LC08), subset bands, unmask, and resample           \n",
        "  srCollection = (srCollection.map(lambda img: \n",
        "    ee.Image(\n",
        "      ee.Algorithms.If(\n",
        "        sensor == 'LC08',                                                  # condition - if image is OLI\n",
        "        harmonizationRoy(img),                                    # true - then apply the L8 TO L7 alignment function after unmasking pixels that were previosuly masked (why/when are pixels masked)\n",
        "        img.select(['B1', 'B2', 'B3', 'B4', 'B5', 'B7'])                   # false - else select out the reflectance bands from the non-OLI image\n",
        "           .set('system:time_start', img.get('system:time_start'))         # ...set the output system:time_start metadata to the input image time_start otherwise it is null\n",
        "      )\n",
        "    )))\n",
        "  return srCollection\n",
        "  \n",
        "# ------ FUNCTION TO COMBINE LT05, LE07, & LC08 COLLECTIONS -----\n",
        "def getCombinedSRcollection(year, startDay, endDay, aoi):\n",
        "    lt5 = getSRcollection(year, startDay, endDay, 'LT05', aoi)       # get TM collection for a given year, date range, and area\n",
        "    le7 = getSRcollection(year, startDay, endDay, 'LE07', aoi)       # get ETM+ collection for a given year, date range, and area\n",
        "    lc8 = getSRcollection(year, startDay, endDay, 'LC08', aoi)       # get OLI collection for a given year, date range, and area\n",
        "    mergedCollection = ee.ImageCollection(lt5.merge(le7).merge(lc8)) # merge the individual sensor collections into one imageCollection object\n",
        "    return mergedCollection                                              # return the Imagecollection\n",
        "# ------ FUNCTION TO REDUCE COLLECTION TO SINGLE IMAGE PER YEAR BY MEDOID -----\n",
        "#  make a medoid composite with equal weight among indices\n",
        "def medoidMosaic(inCollection, dummyCollection):\n",
        "  \n",
        "  #fill in missing years with the dummy collection\n",
        "  imageCount = inCollection.toList(1).length()                                                            #get the number of images \n",
        "  finalCollection = ee.ImageCollection(ee.Algorithms.If(imageCount.gt(0), inCollection, dummyCollection)) # if the number of images in this year is 0, then use the dummy collection, otherwise use the SR collection\n",
        "  \n",
        "  # calculate median across images in collection per band\n",
        "  median = finalCollection.median()                                                                       # calculate the median of the annual image collection - returns a single 6 band image - the collection median per band\n",
        "  \n",
        "  # calculate the different between the median and the observation per image per band\n",
        "  difFromMedian = (finalCollection.map(lambda img: ee.Image(img).subtract(median).pow(ee.Image.constant(2)).reduce('sum').addBands(img)\n",
        "                                          # get the difference between each image/band and the corresponding band median and take to power of 2 to make negatives positive and make greater differences weight more\n",
        "                                        #  per image in collection, sum the powered difference across the bands - set this as the first band add the SR bands to it - now a 7 band image collection\n",
        "                                    ))\n",
        "  \n",
        "  # get the medoid by selecting the image pixel with the smallest difference between median and observation per band \n",
        "  return ee.ImageCollection(difFromMedian).reduce(ee.Reducer.min(7)).select([1,2,3,4,5,6], ['B1','B2','B3','B4','B5','B7']) # find the powered difference that is the least - what image object is the closest to the median of teh collection - and then subset the SR bands and name them - leave behind the powered difference band\n",
        "\n",
        "#------ FUNCTION TO APPLY MEDOID COMPOSITING FUNCTION TO A COLLECTION -------------------------------------------\n",
        "def buildMosaic(year, startDay, endDay, aoi, dummyCollection):  # create a temp variable to hold the upcoming annual mosiac\n",
        "  collection = getCombinedSRcollection(year, startDay, endDay, aoi)  # get the SR collection\n",
        "  img = (medoidMosaic(collection, dummyCollection)                     # apply the medoidMosaic function to reduce the collection to single image per year by medoid \n",
        "              .set('system:time_start', (ee.Date.fromYMD(ee.Number(year).toInt(),8,1))))  # add the year to each medoid image - the data is hard-coded Aug 1st \n",
        "  return ee.Image(img)                                                   # return as image object\n",
        "\n",
        "# ------ FUNCTION TO BUILD ANNUAL MOSAIC COLLECTION ------------------------------\n",
        "def buildSRcollection(startYear, endYear, startDay, endDay, aoi):\n",
        "  dummyCollection = ee.ImageCollection([ee.Image([0,0,0,0,0,0]).mask(ee.Image(0))]) # make an image collection from an image with 6 bands all set to 0 and then make them masked values\n",
        "  imgs = ee.ImageCollection([])                                                                         # create empty array to fill\n",
        "  for i in range(startYear,endYear+1):                                      # for each year from hard defined start to end build medoid composite and then add to empty img array\n",
        "    tmp = buildMosaic(i, startDay, endDay, aoi, dummyCollection)                    # build the median mosaic for a given year\n",
        "    imgs = imgs.merge(ee.ImageCollection(tmp.set('system:time_start', (ee.Date.fromYMD(i,8,1))).set('year', i)))       # concatenate the annual image medoid to the collection (img) and set the date of the image - hard coded to the year that is being worked on for Aug 1st\n",
        "  return imgs                                                       # return the array img array as an image collection"
      ],
      "execution_count": 0,
      "outputs": []
    },
    {
      "cell_type": "markdown",
      "metadata": {
        "id": "5qoP70mGJpML",
        "colab_type": "text"
      },
      "source": [
        "### Initiate timeframes and AOI"
      ]
    },
    {
      "cell_type": "code",
      "metadata": {
        "id": "gW_DyjiCJpxc",
        "colab_type": "code",
        "colab": {}
      },
      "source": [
        "# Define the study period as the dry season (Jan-April) from 1988 to 2019\n",
        "startYear = 1988\n",
        "endYear = 2019\n",
        "startDay = '01-01'\n",
        "endDay = '04-30'\n",
        "# AOI is the centroid of one Landsat tile, e.g. \n",
        "aoi = (ee.Feature(ee.ImageCollection('LANDSAT/LC08/C01/T1_SR')\n",
        "            .filterDate('2019-01-01', '2019-01-31')\n",
        "            .filterMetadata('WRS_PATH','equals',137) # Landsat Path\n",
        "            .filterMetadata('WRS_ROW','equals',44) # Landsat Row\n",
        "            .first().geometry()).centroid().geometry())\n",
        "pprint ({'Centroid of the select path/row':aoi.getInfo()})"
      ],
      "execution_count": 0,
      "outputs": []
    },
    {
      "cell_type": "markdown",
      "metadata": {
        "id": "rjwILjCZg9YU",
        "colab_type": "text"
      },
      "source": [
        "### Construct and display Landsat time series"
      ]
    },
    {
      "cell_type": "code",
      "metadata": {
        "id": "bPK8ir6BMLRf",
        "colab_type": "code",
        "colab": {}
      },
      "source": [
        "allSensorsSR = buildSRcollection(startYear, endYear, startDay, endDay, aoi)\n",
        "allSensorsSR = allSensorsSR.map(lambda img: img.updateMask(img))"
      ],
      "execution_count": 0,
      "outputs": []
    },
    {
      "cell_type": "code",
      "metadata": {
        "id": "zBRPofuwhJK6",
        "colab_type": "code",
        "colab": {}
      },
      "source": [
        "pprint ({'Number of annual mediod composites': allSensorsSR.size().getInfo()})"
      ],
      "execution_count": 0,
      "outputs": []
    },
    {
      "cell_type": "code",
      "metadata": {
        "id": "OPT7HTpv9A7y",
        "colab_type": "code",
        "colab": {}
      },
      "source": [
        "pprint ({'First annual mediod composites': allSensorsSR.first().getInfo()})"
      ],
      "execution_count": 0,
      "outputs": []
    },
    {
      "cell_type": "code",
      "metadata": {
        "id": "2qrOyuLS8WaH",
        "colab_type": "code",
        "colab": {}
      },
      "source": [
        "# The image input data are the Landsat mediod composite of startYear and endYear.\n",
        "image = allSensorsSR.filter(ee.Filter.eq('year',startYear)).first()\n",
        "image1 = allSensorsSR.filter(ee.Filter.eq('year',endYear)).first()\n",
        "\n",
        "# Use folium to visualize the imagery.\n",
        "mapIdDict = image.getMapId({'bands': ['B3', 'B2', 'B1'], 'min': 0, 'max': 3000})\n",
        "mapIdDict1 = image1.getMapId({'bands': ['B3', 'B2', 'B1'], 'min': 0, 'max': 3000})\n",
        "map = folium.Map(location=[22.,89.], zoom_start=7)\n",
        "folium.TileLayer(\n",
        "    tiles=mapIdDict['tile_fetcher'].url_format,\n",
        "    attr='Map Data &copy; <a href=\"https://earthengine.google.com/\">Google Earth Engine</a>',\n",
        "    overlay=True,\n",
        "    name=f'Landsat Mediod Mosaic for {startYear}',\n",
        "  ).add_to(map)\n",
        "folium.TileLayer(\n",
        "    tiles=mapIdDict1['tile_fetcher'].url_format,\n",
        "    attr='Map Data &copy; <a href=\"https://earthengine.google.com/\">Google Earth Engine</a>',\n",
        "    overlay=True,\n",
        "    name=f'Landsat Mediod Mosaic for {endYear}',\n",
        "  ).add_to(map)\n",
        "map.add_child(folium.LayerControl())\n",
        "map"
      ],
      "execution_count": 0,
      "outputs": []
    },
    {
      "cell_type": "markdown",
      "metadata": {
        "id": "7yM1Dk7Z3OiM",
        "colab_type": "text"
      },
      "source": [
        "# Enhanced Saliniy Indice Prep\n",
        "\n",
        ">The ESI is based on an assumption that the reflectance values of\n",
        "Landsat blue, red, and NIR bands are higher for salt-affected soils especially\n",
        "when soil moisture is low (Khan and Sato, 2001; Nurmemet\n",
        "et al., 2015). This concurs with several previous studies (Nurmemet\n",
        "et al., 2015; Allbed et al., 2018, 2014). The ESI was employed to characterize\n",
        "spatiotemporal variability of salinity in the study area. The ESI values\n",
        "range between−1 and 1, and gives higher values for highly salinized soil\n",
        "and vice versa.\n",
        "\n",
        "> $ESI = (-EVI) = (2.5 *(NIR-R))/(NIR+6*R-7.5*B + 1)$\n",
        "\n",
        "Reference: Tran, T. V., Tran, D. X., Myint, S. W., Huang, C. Y., Pham, H. V., Luu, T. H., & Vo, T. M. (2019). Examining spatiotemporal salinity dynamics in the Mekong River Delta using Landsat time series imagery and a spatial regression approach. Science of the total environment, 687, 1087-1097."
      ]
    },
    {
      "cell_type": "markdown",
      "metadata": {
        "id": "kyzUpOO43hSR",
        "colab_type": "text"
      },
      "source": [
        "### Define function to calculate ESI"
      ]
    },
    {
      "cell_type": "code",
      "metadata": {
        "id": "7VUvystUXE1r",
        "colab_type": "code",
        "colab": {}
      },
      "source": [
        "# Function to calculate the ESI\n",
        "def calcESI(image):\n",
        "  evi = (image.expression('2.5 * (b(\"B4\")/10000 - b(\"B3\")/10000) / (b(\"B4\")/10000 + 6*b(\"B3\")/10000 - 7.5*b(\"B1\")/10000 + 1) * (-1)').toFloat().rename('ESI'))\n",
        "  return evi.set({'system:time_start': image.get('system:time_start'),'year': image.get('year')})"
      ],
      "execution_count": 0,
      "outputs": []
    },
    {
      "cell_type": "code",
      "metadata": {
        "id": "X3g_Y2G8bazM",
        "colab_type": "code",
        "colab": {}
      },
      "source": [
        "# Calculate ESI for the time series\n",
        "allSensorsSR= allSensorsSR.map(calcESI)"
      ],
      "execution_count": 0,
      "outputs": []
    },
    {
      "cell_type": "code",
      "metadata": {
        "id": "MuZcbJTB4QMx",
        "colab_type": "code",
        "colab": {}
      },
      "source": [
        "pprint ({'Check for ESI image':allSensorsSR_ESI.first().getInfo()})"
      ],
      "execution_count": 0,
      "outputs": []
    },
    {
      "cell_type": "markdown",
      "metadata": {
        "id": "f4LCs34DjT54",
        "colab_type": "text"
      },
      "source": [
        "Try to understand the ESI values for different land cover/use classes on the RGB image"
      ]
    },
    {
      "cell_type": "code",
      "metadata": {
        "id": "_5eJpLyw5ENv",
        "colab_type": "code",
        "colab": {}
      },
      "source": [
        "# change the number to any value between 1988 and 2019, then the according year ESI image will be displayed below, the greener the image is, the high potential of salinized soil concurs\n",
        "yearID = 2016\n",
        "\n",
        "mapid = allSensorsSR_ESI.filter(ee.Filter.eq('year',yearID)).first().getMapId({'min': -0.8, 'max': 0.8, 'palette': ['fffdcd', 'e1cd73', 'aaac20', '5f920c', '187328', '144b2a', '172313']})\n",
        "mapid1 = allSensorsSR.filter(ee.Filter.eq('year',yearID)).first().getMapId({'bands': ['B3', 'B2', 'B1'], 'min': 0, 'max': 3000})\n",
        "map = folium.Map(location=[22., 89.], zoom_start=7)\n",
        "folium.TileLayer(\n",
        "    tiles=mapid1['tile_fetcher'].url_format,\n",
        "    attr='Map Data &copy; <a href=\"https://earthengine.google.com/\">Google Earth Engine</a>',\n",
        "    overlay=True,\n",
        "    name=f'Landsat RGB {yearID}',\n",
        "  ).add_to(map)\n",
        "\n",
        "folium.TileLayer(\n",
        "    tiles=mapid['tile_fetcher'].url_format,\n",
        "    attr='Map Data &copy; <a href=\"https://earthengine.google.com/\">Google Earth Engine</a>',\n",
        "    overlay=True,\n",
        "    name=f'ESI {yearID}',\n",
        "  ).add_to(map)\n",
        "map.add_child(folium.LayerControl())\n",
        "map"
      ],
      "execution_count": 0,
      "outputs": []
    },
    {
      "cell_type": "markdown",
      "metadata": {
        "id": "5qQg48pukNUZ",
        "colab_type": "text"
      },
      "source": [
        "# Trend Analysis 1988-2019\n",
        "\n",
        "The [Pearson correlation](https://en.wikipedia.org/wiki/Pearson_correlation_coefficient) measures how two continuous signals covary over time and indicate the linear relationship as a number between -1 (negatively correlated) to 0 (not correlated) to 1 (perfectly correlated). It is intuitive, easy to understand, and easy to interpret.\n",
        "\n",
        "Here, the two continuous signals are **time** and **ESI time series**\n"
      ]
    },
    {
      "cell_type": "markdown",
      "metadata": {
        "id": "YdE8YT0gkR-c",
        "colab_type": "text"
      },
      "source": [
        "### Prepare a time constant band"
      ]
    },
    {
      "cell_type": "code",
      "metadata": {
        "id": "ciFms6Ru4iKc",
        "colab_type": "code",
        "colab": {}
      },
      "source": [
        "esiTrendCollection = (allSensorsSR_ESI\n",
        "                          .map(lambda image: image.addBands(image.metadata('year').rename('constant'))))"
      ],
      "execution_count": 0,
      "outputs": []
    },
    {
      "cell_type": "code",
      "metadata": {
        "id": "HigLB7aKPH2A",
        "colab_type": "code",
        "colab": {}
      },
      "source": [
        "pprint ({'Add a time constant band': esiTrendCollection.first().getInfo()})"
      ],
      "execution_count": 0,
      "outputs": []
    },
    {
      "cell_type": "markdown",
      "metadata": {
        "id": "Zm_cnOuPoqTZ",
        "colab_type": "text"
      },
      "source": [
        "### Caclulate Pearsons correlation coefficients\n",
        "By applying `ee.Reducer.pearsonsCorrelation()` on the prepared time series, there are two bands being generated as an image output. ***Band 0 'correlation'*** countains the correlation coefficients ranging from -1 to +1, and ***Band 1 'p-value'*** contains two-side P-value indicating the signifcance of the trends."
      ]
    },
    {
      "cell_type": "code",
      "metadata": {
        "id": "1vYxyC0Frtbe",
        "colab_type": "code",
        "colab": {}
      },
      "source": [
        "reduced = esiTrendCollection.select(['constant', 'ESI']).reduce(ee.Reducer.pearsonsCorrelation())"
      ],
      "execution_count": 0,
      "outputs": []
    },
    {
      "cell_type": "code",
      "metadata": {
        "id": "qBdxY6d9rxvu",
        "colab_type": "code",
        "colab": {}
      },
      "source": [
        "pprint ({'PearsonsCorrelation Outputs': reduced.getInfo()})"
      ],
      "execution_count": 0,
      "outputs": []
    },
    {
      "cell_type": "markdown",
      "metadata": {
        "id": "WEyPN1thsPEC",
        "colab_type": "text"
      },
      "source": [
        "### Map the significant trends only"
      ]
    },
    {
      "cell_type": "markdown",
      "metadata": {
        "id": "tDH2Dh_6rirg",
        "colab_type": "text"
      },
      "source": [
        "To determine whether the correlation between variables is significant, compare the p-value to your significance level. Usually, a significance level (denoted as α or alpha) of 0.05 works well. An α of 0.05 indicates that the risk of concluding that a correlation exists—when, actually, no correlation exists—is 5%. The p-value tells you whether the correlation coefficient is significantly different from 0. (A coefficient of 0 indicates that there is no linear relationship.)\n",
        ">P-value ≤ α: The correlation is statistically significant\n",
        "If the p-value is less than or equal to the significance level, then you can conclude that the correlation is different from 0.\n",
        "\n",
        ">P-value > α: The correlation is not statistically significant\n",
        "If the p-value is greater than the significance level, then you cannot conclude that the correlation is different from 0."
      ]
    },
    {
      "cell_type": "code",
      "metadata": {
        "id": "JgtYO_QbOb-4",
        "colab_type": "code",
        "colab": {}
      },
      "source": [
        "sigreduced = reduced.select(0).multiply(reduced.select(1).lt(0.05)).rename('correlation')\n",
        "\n",
        "sigreduced_format = (sigreduced.expression(\n",
        "    \"(b() > 0) ? 2\" +\n",
        "      \": (b() == 0) ? 3\" +\n",
        "        \": (b() < 0) ? 1\" +\n",
        "          \": 0\"\n",
        "))\n"
      ],
      "execution_count": 0,
      "outputs": []
    },
    {
      "cell_type": "code",
      "metadata": {
        "id": "yqyQtHBfONER",
        "colab_type": "code",
        "colab": {}
      },
      "source": [
        "mapid = sigreduced_format.updateMask(sigreduced_format.neq(0)).getMapId({'min': 1, 'max': 3, 'palette': ['green', 'orange', 'fffdcd']})\n",
        "map = folium.Map(location=[22., 89.], zoom_start=7)\n",
        "# Add custom basemaps\n",
        "basemaps['Google Maps'].add_to(map)\n",
        "basemaps['Google Satellite Hybrid'].add_to(map)\n",
        "folium.TileLayer(\n",
        "    tiles=mapid['tile_fetcher'].url_format,\n",
        "    attr='Map Data &copy; <a href=\"https://earthengine.google.com/\">Google Earth Engine</a>',\n",
        "    overlay=True,\n",
        "    name=f'Significant ESI Trends',\n",
        "  ).add_to(map)\n",
        "map.add_child(folium.LayerControl())\n",
        "map"
      ],
      "execution_count": 0,
      "outputs": []
    },
    {
      "cell_type": "markdown",
      "metadata": {
        "id": "Q1Cb_VKRs3jP",
        "colab_type": "text"
      },
      "source": [
        "# Export the product"
      ]
    },
    {
      "cell_type": "code",
      "metadata": {
        "id": "BzkrfZVZYjlA",
        "colab_type": "code",
        "colab": {}
      },
      "source": [
        "task= ee.batch.Export.image.toDrive(\n",
        "            image = sigreduced_format.updateMask(sigreduced_format.eq(2)).gt(0).toByte(),\n",
        "            description = f'CTCN101_ESI_Trend',\n",
        "            folder = f'CTCN101',\n",
        "            region= sigreduced_format.geometry().getInfo()[\"coordinates\"],    \n",
        "            scale= 10,\n",
        "            maxPixels= int(2e9),\n",
        "            crs='EPSG:4326')\n",
        "task.start()\n",
        "\n",
        "# Block until the task completes.\n",
        "print('Running image export to Google Drive...')\n",
        "import time\n",
        "while task.active():\n",
        "  time.sleep(30)\n",
        "\n",
        "# Error condition\n",
        "if task.status()['state'] != 'COMPLETED':\n",
        "  print('Error with image export.')\n",
        "else:\n",
        "  print('Image export completed.')"
      ],
      "execution_count": 0,
      "outputs": []
    },
    {
      "cell_type": "code",
      "metadata": {
        "id": "BrNjvpdrZ5pa",
        "colab_type": "code",
        "colab": {}
      },
      "source": [
        ""
      ],
      "execution_count": 0,
      "outputs": []
    }
  ]
}
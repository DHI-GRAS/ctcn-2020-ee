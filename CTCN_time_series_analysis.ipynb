{
  "nbformat": 4,
  "nbformat_minor": 0,
  "metadata": {
    "colab": {
      "name": "CTCN time series analysis.ipynb",
      "provenance": [],
      "toc_visible": true
    },
    "kernelspec": {
      "name": "python3",
      "display_name": "Python 3"
    }
  },
  "cells": [
    {
      "cell_type": "markdown",
      "metadata": {
        "id": "19DEVe8s-kRz",
        "colab_type": "text"
      },
      "source": [
        "# Introduction\n",
        "\n",
        "Prerequisites: CTCN 101"
      ]
    },
    {
      "cell_type": "markdown",
      "metadata": {
        "id": "Pu51_ttKdSS2",
        "colab_type": "text"
      },
      "source": [
        "The normalised difference vegeation index (NDVI) is a simple graphical indicator that can be used to analyze remote sensing assessed greenness of vegetation.\n",
        "\n",
        ">$NDVI=(NIR-R)/(NIR+R)$"
      ]
    },
    {
      "cell_type": "code",
      "metadata": {
        "id": "DP1Wm8XJd-oo",
        "colab_type": "code",
        "colab": {}
      },
      "source": [
        "def addNDVI(img):\n",
        "    \"\"\"A function to compute Sentinel-2 NDVI.\"\"\"\n",
        "    ndvi = img.expression('float(b(\"B8\") - b(\"B4\")) / (b(\"B8\") + b(\"B4\"))').rename('ndvi')   \n",
        "    return img.addBands([ndvi])"
      ],
      "execution_count": 0,
      "outputs": []
    },
    {
      "cell_type": "code",
      "metadata": {
        "id": "eJbswvZCxXe-",
        "colab_type": "code",
        "colab": {}
      },
      "source": [
        "# Function to mask clouds using the Sentinel-2 SCL band.\n",
        "def S2CloudMaskSCL(img):\n",
        "  qa = img.select('SCL')\n",
        "  mask_band = qa.eq(3).Or(qa.eq(8)).Or(qa.eq(9)).Or(qa.eq(10)).Or(qa.eq(11))\n",
        "  mask = mask_band.eq(0)\n",
        "  # Return the masked and scaled data.\n",
        "  return img.updateMask(mask)\n",
        "def ESAcloudMask(img):\n",
        "    ''' Sentinel-2 Bits 10 & 11 are clouds & cirrus, so set to 0. '''\n",
        "    qa = img.select('QA60')\n",
        "    cloudBitMask = int(2**10)\n",
        "    cirrusBitMask = int(2**11)\n",
        "    clear = qa.bitwiseAnd(cloudBitMask).eq(0).And(\\\n",
        "           qa.bitwiseAnd(cirrusBitMask).eq(0))\n",
        "    return img.updateMask(clear) "
      ],
      "execution_count": 0,
      "outputs": []
    },
    {
      "cell_type": "code",
      "metadata": {
        "id": "jtljnY8IfOGN",
        "colab_type": "code",
        "colab": {}
      },
      "source": [
        "def s2col_monthly(feat):\n",
        "      bandNamesAll = ['ndvi']\n",
        "      monthDifference = ee.Date('2019-01-01').advance(1, 'month').millis().subtract(ee.Date('2019-01-01').millis());\n",
        "      listMap = ee.List.sequence(ee.Date('2019-01-01').millis(), ee.Date('2020-01-01').millis(), monthDifference);\n",
        "\n",
        "      s2monthIC = (ee.ImageCollection.fromImages(listMap.map(lambda dateMillis: (\n",
        "         (ee.ImageCollection('COPERNICUS/S2_SR')\n",
        "                            .filterBounds(feat)\n",
        "                            .filter(ee.Filter.And(\n",
        "                              ee.Filter.date(ee.Date(dateMillis), ee.Date(dateMillis).advance(1, 'month')),\n",
        "                              ee.Filter.lt('CLOUDY_PIXEL_PERCENTAGE', 90)))\n",
        "                            .map(S2CloudMaskSCL)\n",
        "                            .map(ESAcloudMask)\n",
        "                            \n",
        "                            ).median())\n",
        "      )))\n",
        "      \n",
        "      return s2monthIC.map(addNDVI).select(bandNamesAll)"
      ],
      "execution_count": 0,
      "outputs": []
    },
    {
      "cell_type": "code",
      "metadata": {
        "id": "D_gdSqkDzBRT",
        "colab_type": "code",
        "colab": {}
      },
      "source": [
        "AOI = ee.Geometry.Polygon(\n",
        "        [[[\n",
        "              89.40673828125,\n",
        "              21.37124437061831\n",
        "            ],\n",
        "            [\n",
        "              90.90087890624999,\n",
        "              21.37124437061831\n",
        "            ],\n",
        "            [\n",
        "              90.90087890624999,\n",
        "              22.471954507739227\n",
        "            ],\n",
        "            [\n",
        "              89.40673828125,\n",
        "              22.471954507739227\n",
        "            ],\n",
        "            [\n",
        "              89.40673828125,\n",
        "              21.37124437061831\n",
        "            ]]])"
      ],
      "execution_count": 0,
      "outputs": []
    },
    {
      "cell_type": "code",
      "metadata": {
        "id": "rgbFz6cezlgM",
        "colab_type": "code",
        "colab": {}
      },
      "source": [
        "# Fetch a Landsat image.\n",
        "img = s2col_monthly(AOI).toBands().clip(AOI)"
      ],
      "execution_count": 0,
      "outputs": []
    },
    {
      "cell_type": "code",
      "metadata": {
        "id": "qP84EmWAzbv6",
        "colab_type": "code",
        "colab": {
          "base_uri": "https://localhost:8080/",
          "height": 1000
        },
        "outputId": "8b507290-c69b-441a-824b-3c6c867991e9"
      },
      "source": [
        "monthID = 5\n",
        "\n",
        "mapid = img.select(monthID).getMapId({'min': -0.8, 'max': 0.8, 'palette': ['fffdcd', 'e1cd73', 'aaac20', '5f920c', '187328', '144b2a', '172313']})\n",
        "map = folium.Map(location=[22., 89.], zoom_start=7)\n",
        "folium.TileLayer(\n",
        "    tiles=mapid['tile_fetcher'].url_format,\n",
        "    attr='Map Data &copy; <a href=\"https://earthengine.google.com/\">Google Earth Engine</a>',\n",
        "    overlay=True,\n",
        "    name='training polygons',\n",
        "  ).add_to(map)\n",
        "map.add_child(folium.LayerControl())\n",
        "map"
      ],
      "execution_count": 83,
      "outputs": [
        {
          "output_type": "execute_result",
          "data": {
            "text/html": [
              "<div style=\"width:100%;\"><div style=\"position:relative;width:100%;height:0;padding-bottom:60%;\"><iframe src=\"data:text/html;charset=utf-8;base64,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\" style=\"position:absolute;width:100%;height:100%;left:0;top:0;border:none !important;\" allowfullscreen webkitallowfullscreen mozallowfullscreen></iframe></div></div>"
            ],
            "text/plain": [
              "<folium.folium.Map at 0x7ff3e8ab8320>"
            ]
          },
          "metadata": {
            "tags": []
          },
          "execution_count": 83
        }
      ]
    },
    {
      "cell_type": "code",
      "metadata": {
        "id": "oG6iq9uGxd9-",
        "colab_type": "code",
        "colab": {}
      },
      "source": [
        "# Import the matplotlib.pyplot module.\n",
        "import matplotlib.pyplot as plt\n",
        "from pprint import pprint\n",
        "\n",
        "# Select NDVI, scale them, and sample 500 points.\n",
        "water = ee.Geometry.Point([\n",
        "          89.89700317382812,\n",
        "          22.11999383809455\n",
        "        ])\n",
        "samp_fc = img.sample(region=water,scale=10)\n",
        "\n",
        "# Save server-side ee.List as a client-side Python list.\n",
        "samp_data = samp_fc.toDictionary().values().getInfo()\n",
        "\n",
        "# # Display a scatter plot of Red-NIR sample pairs using matplotlib.\n",
        "# plt.scatter(samp_data[0], samp_data[1], alpha=0.2)\n",
        "# plt.xlabel('Red', fontsize=12)\n",
        "# plt.ylabel('NIR', fontsize=12)\n",
        "# plt.show()"
      ],
      "execution_count": 0,
      "outputs": []
    },
    {
      "cell_type": "code",
      "metadata": {
        "id": "BCdrd_aC34Bu",
        "colab_type": "code",
        "colab": {
          "base_uri": "https://localhost:8080/",
          "height": 230
        },
        "outputId": "09caf642-cffd-4961-f2f9-b92e39283c14"
      },
      "source": [
        "pprint ({'test:':samp_data[0]})"
      ],
      "execution_count": 128,
      "outputs": [
        {
          "output_type": "stream",
          "text": [
            "{'test:': ['0_ndvi',\n",
            "           '1_ndvi',\n",
            "           '2_ndvi',\n",
            "           '3_ndvi',\n",
            "           '4_ndvi',\n",
            "           '5_ndvi',\n",
            "           '6_ndvi',\n",
            "           '7_ndvi',\n",
            "           '8_ndvi',\n",
            "           '9_ndvi',\n",
            "           '10_ndvi',\n",
            "           '11_ndvi']}\n"
          ],
          "name": "stdout"
        }
      ]
    },
    {
      "cell_type": "code",
      "metadata": {
        "id": "9yZbJ27j8IwQ",
        "colab_type": "code",
        "colab": {}
      },
      "source": [
        "# Arrange the sample as a list of lists.\n",
        "samp_fc = img.sample(scale=10, numPixels=500)\n",
        "samp_dict = samp_fc.reduceColumns(ee.Reducer.toList().repeat(12), ['0_ndvi','1_ndvi','2_ndvi','3_ndvi','4_ndvi','5_ndvi','6_ndvi','7_ndvi','8_ndvi','9_ndvi','10_ndvi','11_ndvi'])\n",
        "samp_list = ee.List(samp_dict.get('list'))\n",
        "\n",
        "# Save server-side ee.List as a client-side Python list.\n",
        "samp_data = samp_list.getInfo()"
      ],
      "execution_count": 0,
      "outputs": []
    },
    {
      "cell_type": "code",
      "metadata": {
        "id": "8VUfTIKz8mgB",
        "colab_type": "code",
        "colab": {
          "base_uri": "https://localhost:8080/",
          "height": 34
        },
        "outputId": "6be503b9-707c-4594-fcb0-65ec4ccc83de"
      },
      "source": [
        "print (len(samp_data[0]))"
      ],
      "execution_count": 116,
      "outputs": [
        {
          "output_type": "stream",
          "text": [
            "270\n"
          ],
          "name": "stdout"
        }
      ]
    }
  ]
}
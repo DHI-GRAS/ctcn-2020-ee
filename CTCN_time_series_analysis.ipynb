{
  "nbformat": 4,
  "nbformat_minor": 0,
  "metadata": {
    "colab": {
      "name": "CTCN time series analysis.ipynb",
      "provenance": [],
      "collapsed_sections": [],
      "toc_visible": true,
      "authorship_tag": "ABX9TyNxax1fNu5K17LUonRmKMpi",
      "include_colab_link": true
    },
    "kernelspec": {
      "name": "python3",
      "display_name": "Python 3"
    }
  },
  "cells": [
    {
      "cell_type": "markdown",
      "metadata": {
        "id": "view-in-github",
        "colab_type": "text"
      },
      "source": [
        "<a href=\"https://colab.research.google.com/github/buwuyou/CTCN_2020_EE/blob/master/CTCN_time_series_analysis.ipynb\" target=\"_parent\"><img src=\"https://colab.research.google.com/assets/colab-badge.svg\" alt=\"Open In Colab\"/></a>"
      ]
    },
    {
      "cell_type": "markdown",
      "metadata": {
        "id": "19DEVe8s-kRz",
        "colab_type": "text"
      },
      "source": [
        "# Introduction\n",
        "\n",
        "This tutorial will establish a foundation for time series analysis of remote sensing data (Sentinel-2 time series data), including:\n",
        "\n",
        "1. Calculte a popular vegetation indice\n",
        "\n",
        "2. Apply a simple linear analysis on the 4-year time series\n",
        "\n",
        "3. Plot the time series for known locations\n",
        "\n",
        "4. Export the trend map for your study area\n",
        "\n",
        "\n",
        "Prerequisites: CTCN 101"
      ]
    },
    {
      "cell_type": "markdown",
      "metadata": {
        "id": "CggFHj415SpR",
        "colab_type": "text"
      },
      "source": [
        "### Install, Import, Authenticate and Initialize EE Python API\n",
        "\n",
        "Run the `ee.Authenticate` function to authenticate your access to Earth Engine servers and `ee.Initialize` to initialize it. Upon running the following cell you'll be asked to grant Earth Engine access to your Google account. Follow the instructions printed to the cell."
      ]
    },
    {
      "cell_type": "code",
      "metadata": {
        "id": "MnlFxshY5Tcf",
        "colab_type": "code",
        "colab": {}
      },
      "source": [
        "!pip install -q earthengine-api\n",
        "\n",
        "# Import the Earth Engine library.\n",
        "import ee\n",
        "\n",
        "# Trigger the authentication flow.\n",
        "ee.Authenticate()\n",
        "ee.Initialize()"
      ],
      "execution_count": 0,
      "outputs": []
    },
    {
      "cell_type": "code",
      "metadata": {
        "id": "eMOwTvzY5WS2",
        "colab_type": "code",
        "colab": {}
      },
      "source": [
        "from pprint import pprint \n",
        "\n",
        "import folium\n",
        "from folium import plugins\n",
        "print(folium.__version__)\n",
        "# Add custom basemaps to folium\n",
        "basemaps = {\n",
        "    'Google Maps': folium.TileLayer(\n",
        "        tiles = 'https://mt1.google.com/vt/lyrs=m&x={x}&y={y}&z={z}',\n",
        "        attr = 'Google',\n",
        "        name = 'Google Maps',\n",
        "        overlay = True,\n",
        "        control = True\n",
        "    ),\n",
        "    'Google Satellite': folium.TileLayer(\n",
        "        tiles = 'https://mt1.google.com/vt/lyrs=s&x={x}&y={y}&z={z}',\n",
        "        attr = 'Google',\n",
        "        name = 'Google Satellite',\n",
        "        overlay = True,\n",
        "        control = True\n",
        "    ),\n",
        "    'Google Terrain': folium.TileLayer(\n",
        "        tiles = 'https://mt1.google.com/vt/lyrs=p&x={x}&y={y}&z={z}',\n",
        "        attr = 'Google',\n",
        "        name = 'Google Terrain',\n",
        "        overlay = True,\n",
        "        control = True\n",
        "    ),\n",
        "    'Google Satellite Hybrid': folium.TileLayer(\n",
        "        tiles = 'https://mt1.google.com/vt/lyrs=y&x={x}&y={y}&z={z}',\n",
        "        attr = 'Google',\n",
        "        name = 'Google Satellite',\n",
        "        overlay = True,\n",
        "        control = True\n",
        "    ),\n",
        "    'Esri Satellite': folium.TileLayer(\n",
        "        tiles = 'https://server.arcgisonline.com/ArcGIS/rest/services/World_Imagery/MapServer/tile/{z}/{y}/{x}',\n",
        "        attr = 'Esri',\n",
        "        name = 'Esri Satellite',\n",
        "        overlay = True,\n",
        "        control = True\n",
        "    )\n",
        "}"
      ],
      "execution_count": 0,
      "outputs": []
    },
    {
      "cell_type": "markdown",
      "metadata": {
        "id": "hwdyuFbJ5hkK",
        "colab_type": "text"
      },
      "source": [
        "# NDVI 101"
      ]
    },
    {
      "cell_type": "markdown",
      "metadata": {
        "id": "Pu51_ttKdSS2",
        "colab_type": "text"
      },
      "source": [
        "The normalised difference vegeation index (NDVI) is a simple graphical indicator that can be used to analyze remote sensing assessed greenness of vegetation.\n",
        "\n",
        ">$NDVI=(NIR-R)/(NIR+R)$"
      ]
    },
    {
      "cell_type": "code",
      "metadata": {
        "id": "DP1Wm8XJd-oo",
        "colab_type": "code",
        "colab": {}
      },
      "source": [
        "def addNDVI(img):\n",
        "    \"\"\"A function to compute Sentinel-2 NDVI.\"\"\"\n",
        "    ndvi = img.expression('float(b(\"B8\") - b(\"B4\")) / (b(\"B8\") + b(\"B4\"))').rename('ndvi')   \n",
        "    return img.addBands([ndvi])"
      ],
      "execution_count": 0,
      "outputs": []
    },
    {
      "cell_type": "code",
      "metadata": {
        "id": "eJbswvZCxXe-",
        "colab_type": "code",
        "colab": {}
      },
      "source": [
        "def ESAcloudMask(img):\n",
        "    ''' Sentinel-2 Bits 10 & 11 are clouds & cirrus, so set to 0. '''\n",
        "    qa = img.select('QA60')\n",
        "    cloudBitMask = int(2**10)\n",
        "    cirrusBitMask = int(2**11)\n",
        "    clear = qa.bitwiseAnd(cloudBitMask).eq(0).And(\\\n",
        "           qa.bitwiseAnd(cirrusBitMask).eq(0))\n",
        "    return img.updateMask(clear) "
      ],
      "execution_count": 0,
      "outputs": []
    },
    {
      "cell_type": "code",
      "metadata": {
        "id": "k7e-NjQ7rnD8",
        "colab_type": "code",
        "colab": {}
      },
      "source": [
        "def addTime(image):\n",
        "  '''This function adds a band representing the image timestamp.'''\n",
        "  # Convert milliseconds from epoch to years to aid in interpretation of the following trend calculation.\n",
        "  return image.addBands(image.metadata('system:time_start').divide(1000 * 60 * 60 * 24 * 365))\n"
      ],
      "execution_count": 0,
      "outputs": []
    },
    {
      "cell_type": "code",
      "metadata": {
        "id": "jtljnY8IfOGN",
        "colab_type": "code",
        "colab": {}
      },
      "source": [
        "def s2col_monthly(feat):\n",
        "      '''A function to create s2 monthly composites for three years'''\n",
        "      bandNamesAll = ['ndvi']\n",
        "      monthDifference = ee.Date('2019-01-01').advance(1, 'month').millis().subtract(ee.Date('2019-01-01').millis());\n",
        "      listMap = ee.List.sequence(ee.Date('2016-01-01').millis(), ee.Date('2020-01-01').millis(), monthDifference);\n",
        "\n",
        "      s2monthIC = (ee.ImageCollection.fromImages(listMap.map(lambda dateMillis: (\n",
        "         (ee.ImageCollection('COPERNICUS/S2')\n",
        "                            .filterBounds(feat)\n",
        "                            .filter(ee.Filter.And(\n",
        "                              ee.Filter.date(ee.Date(dateMillis), ee.Date(dateMillis).advance(1, 'month')),\n",
        "                              ee.Filter.lt('CLOUDY_PIXEL_PERCENTAGE', 90)))\n",
        "                            .map(ESAcloudMask)\n",
        "                            \n",
        "                            )\n",
        "         .median()\n",
        "         .clip(feat)\n",
        "         .set('system:time_start',dateMillis)\n",
        "         .set('year', ee.Date(dateMillis).get('year').toInt())\n",
        "         .set('month', ee.Date(dateMillis).get('month').toInt())\n",
        "         )\n",
        "      )))\n",
        "      \n",
        "      return s2monthIC.map(addNDVI).select(bandNamesAll).map(addTime)"
      ],
      "execution_count": 0,
      "outputs": []
    },
    {
      "cell_type": "markdown",
      "metadata": {
        "id": "8lZ6dJwCAgpM",
        "colab_type": "text"
      },
      "source": [
        "### Define AOI"
      ]
    },
    {
      "cell_type": "code",
      "metadata": {
        "id": "D_gdSqkDzBRT",
        "colab_type": "code",
        "colab": {}
      },
      "source": [
        "# Define an AOI\n",
        "AOI = ee.Geometry.Polygon(\n",
        "        [[[\n",
        "              89.40673828125,\n",
        "              21.37124437061831\n",
        "            ],\n",
        "            [\n",
        "              90.90087890624999,\n",
        "              21.37124437061831\n",
        "            ],\n",
        "            [\n",
        "              90.90087890624999,\n",
        "              22.471954507739227\n",
        "            ],\n",
        "            [\n",
        "              89.40673828125,\n",
        "              22.471954507739227\n",
        "            ],\n",
        "            [\n",
        "              89.40673828125,\n",
        "              21.37124437061831\n",
        "            ]]])"
      ],
      "execution_count": 0,
      "outputs": []
    },
    {
      "cell_type": "markdown",
      "metadata": {
        "id": "A4qR8cCmAlI7",
        "colab_type": "text"
      },
      "source": [
        "### Create Sentinel-2 monthly observation"
      ]
    },
    {
      "cell_type": "code",
      "metadata": {
        "id": "rgbFz6cezlgM",
        "colab_type": "code",
        "colab": {}
      },
      "source": [
        "# Fetch a Sentinel-2 monthly images.\n",
        "imgs = s2col_monthly(AOI)"
      ],
      "execution_count": 0,
      "outputs": []
    },
    {
      "cell_type": "code",
      "metadata": {
        "id": "uoximJ-4AyEv",
        "colab_type": "code",
        "colab": {}
      },
      "source": [
        "pprint ({'Sentinel-2 Monthly Images since Jan, 2016': imgs.size().getInfo()})\n",
        "pprint ({'Sentinel-2 Monthly Image': imgs.first().getInfo()})"
      ],
      "execution_count": 0,
      "outputs": []
    },
    {
      "cell_type": "markdown",
      "metadata": {
        "id": "mq0rymaLA1pY",
        "colab_type": "text"
      },
      "source": [
        "# Simple Linear Trend Analysis\n",
        "\n",
        "In statistics, linear regression is a linear approach to modeling the relationship between a scalar response (e.g NDVI) and one or more explanatory variables (e.g. time). The case of one explanatory variable is called simple linear regression. \n",
        "\n",
        "Consider the following linear model, where **e** is a random error\n",
        "> $ NDVI_t = β_{0} + β_{1}t + e^{t}$\n",
        "\n",
        "It presents a time series model that a scalar response of NDVI is explained by the time (t). When the time steps increases, a time series of NDVI is such composited and indexed in time order. $β_{0}$ is socalled as offset, and $β_{1}$ is slope, which indicates the direction and altitude of changes during time, socalled as trends.\n",
        "\n"
      ]
    },
    {
      "cell_type": "code",
      "metadata": {
        "id": "vUio0Db-ETYG",
        "colab_type": "code",
        "colab": {}
      },
      "source": [
        "#  Select the bands to model with the independent variable first.\n",
        "trend = imgs.select(['system:time_start', 'ndvi']).reduce(ee.Reducer.linearFit())# Compute the linear trend over time.\n",
        "pprint ({'Sentinel-2 Trend Image': trend.getInfo()})"
      ],
      "execution_count": 0,
      "outputs": []
    },
    {
      "cell_type": "markdown",
      "metadata": {
        "id": "OazjYmx4BEEU",
        "colab_type": "text"
      },
      "source": [
        "### Display a trend map"
      ]
    },
    {
      "cell_type": "code",
      "metadata": {
        "id": "qP84EmWAzbv6",
        "colab_type": "code",
        "colab": {}
      },
      "source": [
        "orange2greenPalette = [\n",
        "    'FFFFFF', 'CE7E45', 'DF923D', 'F1B555', 'FCD163', '99B718', '74A901',\n",
        "    '66A000', '529400', '3E8601', '207401', '056201', '004C00', '023B01',\n",
        "    '012E01', '011D01', '011301'\n",
        "  ]\n",
        "mapid = trend.getMapId({'bands': ['scale'], 'min': -0.1, 'max': 0.1, 'palette': orange2greenPalette})\n",
        "map = folium.Map(location=[22., 90.], zoom_start=10)\n",
        "# Add custom basemaps\n",
        "basemaps['Google Maps'].add_to(map)\n",
        "basemaps['Google Satellite Hybrid'].add_to(map)\n",
        "folium.TileLayer(\n",
        "    tiles=mapid['tile_fetcher'].url_format,\n",
        "    attr='Map Data &copy; <a href=\"https://earthengine.google.com/\">Google Earth Engine</a>',\n",
        "    overlay=True,\n",
        "    name='Sentinel-2 Trend Map 2016-2019',\n",
        "  ).add_to(map)\n",
        "map.add_child(folium.LayerControl())\n",
        "map"
      ],
      "execution_count": 0,
      "outputs": []
    },
    {
      "cell_type": "markdown",
      "metadata": {
        "id": "0bO_x9JCBJTW",
        "colab_type": "text"
      },
      "source": [
        "### Display the first year NDVI and last year NDVI together with a trend map"
      ]
    },
    {
      "cell_type": "markdown",
      "metadata": {
        "id": "l-XduPJIj8Q5",
        "colab_type": "text"
      },
      "source": [
        "Change the monthID, then the according monthly NDVI image will be displayed below for the year of 2016 and 2019, the greener the image is, the more greeness the vegetation cannopy being reflected\n"
      ]
    },
    {
      "cell_type": "code",
      "metadata": {
        "id": "mSuFmQXaRICD",
        "colab_type": "code",
        "colab": {}
      },
      "source": [
        "monthID = 2\n",
        "yearIDstart = 2016\n",
        "yearIDend = 2019\n",
        "\n",
        "\n",
        "imageS = imgs.select('ndvi').filter(ee.Filter.eq('year',yearIDstart)).filter(ee.Filter.eq('month',monthID)).first()\n",
        "imageE = imgs.select('ndvi').filter(ee.Filter.eq('year',yearIDend)).filter(ee.Filter.eq('month',monthID)).first()\n",
        "\n",
        "mapid = imageS.getMapId({'min': 0, 'max': 0.8, 'palette': orange2greenPalette})\n",
        "mapid1 = imageE.getMapId({'min': 0, 'max': 0.8, 'palette': orange2greenPalette})\n",
        "mapid2 = trend.getMapId({'bands': ['scale'], 'min': -0.1, 'max': 0.1, 'palette': orange2greenPalette})\n",
        "map = folium.Map(location=[22., 90.], zoom_start=8)\n",
        "folium.TileLayer(\n",
        "    tiles=mapid1['tile_fetcher'].url_format,\n",
        "    attr='Map Data &copy; <a href=\"https://earthengine.google.com/\">Google Earth Engine</a>',\n",
        "    overlay=True,\n",
        "    name=f'Sentinel NDVI for year {yearIDstart} and month {monthID}',\n",
        "  ).add_to(map)\n",
        "\n",
        "folium.TileLayer(\n",
        "    tiles=mapid['tile_fetcher'].url_format,\n",
        "    attr='Map Data &copy; <a href=\"https://earthengine.google.com/\">Google Earth Engine</a>',\n",
        "    overlay=True,\n",
        "    name=f'Sentinel NDVI for year {yearIDend} and month {monthID}',\n",
        "  ).add_to(map)\n",
        "\n",
        "folium.TileLayer(\n",
        "    tiles=mapid2['tile_fetcher'].url_format,\n",
        "    attr='Map Data &copy; <a href=\"https://earthengine.google.com/\">Google Earth Engine</a>',\n",
        "    overlay=True,\n",
        "    name='Sentinel-2 Trend Map 2016-2019',\n",
        "  ).add_to(map)\n",
        "map.add_child(folium.LayerControl())\n",
        "folium.LatLngPopup().add_to(map)\n",
        "map"
      ],
      "execution_count": 0,
      "outputs": []
    },
    {
      "cell_type": "markdown",
      "metadata": {
        "id": "9192JOFvn0EI",
        "colab_type": "text"
      },
      "source": [
        "# Plot time series for different land use/cover classes\n",
        "\n",
        "Please use the NDVI and trend map displayed above, to record few coordinates one has interests to understand the inter-annual and intra-annual development of NDVI for three years, such as\n",
        "\n",
        ">Negative trend: 90.3102, 22.0266\n",
        "\n",
        ">Mangrove: 89.8031, 22.1562\n",
        "\n",
        ">Agriculture: 89.9708, 22.1110\n",
        "\n",
        ">Water: 89.8970, 22.1199"
      ]
    },
    {
      "cell_type": "code",
      "metadata": {
        "id": "oG6iq9uGxd9-",
        "colab_type": "code",
        "colab": {}
      },
      "source": [
        "# Import the matplotlib.pyplot module.\n",
        "import matplotlib.pyplot as plt\n",
        "from pprint import pprint\n",
        "import datetime\n",
        "import pandas as pd\n",
        "%matplotlib inline"
      ],
      "execution_count": 0,
      "outputs": []
    },
    {
      "cell_type": "markdown",
      "metadata": {
        "id": "NLgAVnp20c0N",
        "colab_type": "text"
      },
      "source": [
        "### To fetch time series data from EE"
      ]
    },
    {
      "cell_type": "code",
      "metadata": {
        "id": "Za15BGqk0dRm",
        "colab_type": "code",
        "colab": {}
      },
      "source": [
        "def GetDataFrame(coords):\n",
        "    '''a function to get the ndvi time series for a point geometry'''\n",
        "    pnt = ee.Geometry.Point(coords)\n",
        "    # Sample for a time series of values at the point.\n",
        "    geom_values = imgs.select('ndvi').getRegion(geometry=pnt, scale=10)\n",
        "    geom_values_list = ee.List(geom_values).getInfo()\n",
        "    # Convert to a Pandas DataFrame.\n",
        "    header = geom_values_list[0]\n",
        "    data = pd.DataFrame(geom_values_list[1:], columns=header)\n",
        "    data['datetime'] = pd.to_datetime(data['time'], unit='ms', utc=True)\n",
        "    data.set_index('time')\n",
        "    data = data.sort_values('datetime')\n",
        "    data = data[['datetime', 'ndvi']]\n",
        "    return data\n"
      ],
      "execution_count": 0,
      "outputs": []
    },
    {
      "cell_type": "markdown",
      "metadata": {
        "id": "q2mPUSKU_Z52",
        "colab_type": "text"
      },
      "source": [
        "### Plot a mangrove pixel"
      ]
    },
    {
      "cell_type": "code",
      "metadata": {
        "id": "Nd9o5rqF3wBr",
        "colab_type": "code",
        "colab": {}
      },
      "source": [
        "df = GetDataFrame([89.8031, 22.1562])\n",
        "x_time = np.asarray(df['datetime'])\n",
        "y_ndvi = np.asarray(df['ndvi'])"
      ],
      "execution_count": 0,
      "outputs": []
    },
    {
      "cell_type": "code",
      "metadata": {
        "id": "-vDudUJ75asL",
        "colab_type": "code",
        "colab": {}
      },
      "source": [
        "fig = plt.figure(figsize=(15,4))\n",
        "plt.plot(x_time, y_ndvi)"
      ],
      "execution_count": 0,
      "outputs": []
    },
    {
      "cell_type": "markdown",
      "metadata": {
        "id": "e3immqeB_j2o",
        "colab_type": "text"
      },
      "source": [
        "### Plot a pixel experiecing decreasing trend"
      ]
    },
    {
      "cell_type": "code",
      "metadata": {
        "id": "Gs1W4BfP9rmr",
        "colab_type": "code",
        "colab": {}
      },
      "source": [
        "df = GetDataFrame([90.3102, 22.0266])\n",
        "x_time = np.asarray(df['datetime'])\n",
        "y_ndvi = np.asarray(df['ndvi'])"
      ],
      "execution_count": 0,
      "outputs": []
    },
    {
      "cell_type": "code",
      "metadata": {
        "id": "0evbB0ZG_wh1",
        "colab_type": "code",
        "colab": {}
      },
      "source": [
        "fig = plt.figure(figsize=(15,4))\n",
        "plt.plot(x_time, y_ndvi)\n"
      ],
      "execution_count": 0,
      "outputs": []
    },
    {
      "cell_type": "markdown",
      "metadata": {
        "id": "dpyllfJfBnx5",
        "colab_type": "text"
      },
      "source": [
        "# Exercises"
      ]
    },
    {
      "cell_type": "markdown",
      "metadata": {
        "id": "PxyFwTqpBuNb",
        "colab_type": "text"
      },
      "source": [
        "### 1. Check the time series of some locations \n",
        "Record few locations' coordinates on your own interests, and plot the NDVI time series of them"
      ]
    },
    {
      "cell_type": "markdown",
      "metadata": {
        "id": "P0TBTgmcB9eX",
        "colab_type": "text"
      },
      "source": [
        "### 2. Export a trend map for your own AOI\n",
        "\n",
        "Use the code provided above, change the AOI to cover your own study area, run the codes to compute the trend and export\n",
        "Share us what do you find in the trend map?"
      ]
    },
    {
      "cell_type": "code",
      "metadata": {
        "id": "erlpKpiACkwa",
        "colab_type": "code",
        "colab": {}
      },
      "source": [
        "# define a smaller aoi for exporting\n",
        "export_aoi = ee.Geometry.Polygon([\n",
        "          [\n",
        "            [\n",
        "              89.57324981689453,\n",
        "              22.354203655362834\n",
        "            ],\n",
        "            [\n",
        "              89.70096588134764,\n",
        "              22.354203655362834\n",
        "            ],\n",
        "            [\n",
        "              89.70096588134764,\n",
        "              22.4300707662349\n",
        "            ],\n",
        "            [\n",
        "              89.57324981689453,\n",
        "              22.4300707662349\n",
        "            ],\n",
        "            [\n",
        "              89.57324981689453,\n",
        "              22.354203655362834\n",
        "            ]\n",
        "          ]\n",
        "        ])\n",
        "task= ee.batch.Export.image.toDrive(\n",
        "            image = trend.select('scale'),\n",
        "            description = f'CTCN101_Trend_S2_2016_2019',\n",
        "            folder = f'CTCN101',\n",
        "            region= export_aoi.getInfo()[\"coordinates\"],    \n",
        "            scale= 10,\n",
        "            maxPixels= int(2e9),\n",
        "            crs='EPSG:4326')\n",
        "task.start()\n",
        "\n",
        "# Block until the task completes.\n",
        "print('Running image export to Google Drive...')\n",
        "import time\n",
        "while task.active():\n",
        "  time.sleep(30)\n",
        "\n",
        "# Error condition\n",
        "if task.status()['state'] != 'COMPLETED':\n",
        "  print('Error with image export.')\n",
        "else:\n",
        "  print('Image export completed.')"
      ],
      "execution_count": 0,
      "outputs": []
    }
  ]
}
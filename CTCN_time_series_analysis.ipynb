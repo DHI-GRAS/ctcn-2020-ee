{
  "nbformat": 4,
  "nbformat_minor": 0,
  "metadata": {
    "colab": {
      "name": "CTCN time series analysis.ipynb",
      "provenance": [],
      "toc_visible": true,
      "authorship_tag": "ABX9TyNKmoE20aRpcCkUFlh2woXr",
      "include_colab_link": true
    },
    "kernelspec": {
      "name": "python3",
      "display_name": "Python 3"
    }
  },
  "cells": [
    {
      "cell_type": "markdown",
      "metadata": {
        "id": "view-in-github",
        "colab_type": "text"
      },
      "source": [
        "<a href=\"https://colab.research.google.com/github/buwuyou/CTCN_2020_EE/blob/master/CTCN_time_series_analysis.ipynb\" target=\"_parent\"><img src=\"https://colab.research.google.com/assets/colab-badge.svg\" alt=\"Open In Colab\"/></a>"
      ]
    },
    {
      "cell_type": "markdown",
      "metadata": {
        "id": "19DEVe8s-kRz",
        "colab_type": "text"
      },
      "source": [
        "# Introduction\n",
        "\n",
        "This tutorial will establish a foundation for time series analysis of remote sensing data (Sentinel-2 time series data), including:\n",
        "\n",
        "1.\n",
        "\n",
        "2.\n",
        "\n",
        "3.\n",
        "\n",
        "\n",
        "Prerequisites: CTCN 101"
      ]
    },
    {
      "cell_type": "markdown",
      "metadata": {
        "id": "CggFHj415SpR",
        "colab_type": "text"
      },
      "source": [
        "### Install, Import, Authenticate and Initialize EE Python API\n",
        "\n",
        "Run the `ee.Authenticate` function to authenticate your access to Earth Engine servers and `ee.Initialize` to initialize it. Upon running the following cell you'll be asked to grant Earth Engine access to your Google account. Follow the instructions printed to the cell."
      ]
    },
    {
      "cell_type": "code",
      "metadata": {
        "id": "MnlFxshY5Tcf",
        "colab_type": "code",
        "colab": {
          "base_uri": "https://localhost:8080/",
          "height": 178
        },
        "outputId": "147f49c6-1898-46c3-cf9d-67aa492521eb"
      },
      "source": [
        "!pip install -q earthengine-api\n",
        "\n",
        "# Import the Earth Engine library.\n",
        "import ee\n",
        "\n",
        "# Trigger the authentication flow.\n",
        "ee.Authenticate()\n",
        "ee.Initialize()"
      ],
      "execution_count": 1,
      "outputs": [
        {
          "output_type": "stream",
          "text": [
            "To authorize access needed by Earth Engine, open the following URL in a web browser and follow the instructions. If the web browser does not start automatically, please manually browse the URL below.\n",
            "\n",
            "    https://accounts.google.com/o/oauth2/auth?client_id=517222506229-vsmmajv00ul0bs7p89v5m89qs8eb9359.apps.googleusercontent.com&scope=https%3A%2F%2Fwww.googleapis.com%2Fauth%2Fearthengine+https%3A%2F%2Fwww.googleapis.com%2Fauth%2Fdevstorage.full_control&redirect_uri=urn%3Aietf%3Awg%3Aoauth%3A2.0%3Aoob&response_type=code&code_challenge=sYscag7kjj5rUdJNVzfyTtr1Xghma4qQNq9h2AcVxhI&code_challenge_method=S256\n",
            "\n",
            "The authorization workflow will generate a code, which you should paste in the box below. \n",
            "Enter verification code: 4/xgGeQotoeKlEk4gMDyn-J5xId2IgJlSbLlO6xGPiB1y5WWv8PcNCz4E\n",
            "\n",
            "Successfully saved authorization token.\n"
          ],
          "name": "stdout"
        }
      ]
    },
    {
      "cell_type": "code",
      "metadata": {
        "id": "eMOwTvzY5WS2",
        "colab_type": "code",
        "colab": {
          "base_uri": "https://localhost:8080/",
          "height": 34
        },
        "outputId": "1da1469b-f4bb-4fae-b307-59254e088f3f"
      },
      "source": [
        "from pprint import pprint \n",
        "\n",
        "import folium\n",
        "from folium import plugins\n",
        "print(folium.__version__)\n",
        "# Add custom basemaps to folium\n",
        "basemaps = {\n",
        "    'Google Maps': folium.TileLayer(\n",
        "        tiles = 'https://mt1.google.com/vt/lyrs=m&x={x}&y={y}&z={z}',\n",
        "        attr = 'Google',\n",
        "        name = 'Google Maps',\n",
        "        overlay = True,\n",
        "        control = True\n",
        "    ),\n",
        "    'Google Satellite': folium.TileLayer(\n",
        "        tiles = 'https://mt1.google.com/vt/lyrs=s&x={x}&y={y}&z={z}',\n",
        "        attr = 'Google',\n",
        "        name = 'Google Satellite',\n",
        "        overlay = True,\n",
        "        control = True\n",
        "    ),\n",
        "    'Google Terrain': folium.TileLayer(\n",
        "        tiles = 'https://mt1.google.com/vt/lyrs=p&x={x}&y={y}&z={z}',\n",
        "        attr = 'Google',\n",
        "        name = 'Google Terrain',\n",
        "        overlay = True,\n",
        "        control = True\n",
        "    ),\n",
        "    'Google Satellite Hybrid': folium.TileLayer(\n",
        "        tiles = 'https://mt1.google.com/vt/lyrs=y&x={x}&y={y}&z={z}',\n",
        "        attr = 'Google',\n",
        "        name = 'Google Satellite',\n",
        "        overlay = True,\n",
        "        control = True\n",
        "    ),\n",
        "    'Esri Satellite': folium.TileLayer(\n",
        "        tiles = 'https://server.arcgisonline.com/ArcGIS/rest/services/World_Imagery/MapServer/tile/{z}/{y}/{x}',\n",
        "        attr = 'Esri',\n",
        "        name = 'Esri Satellite',\n",
        "        overlay = True,\n",
        "        control = True\n",
        "    )\n",
        "}"
      ],
      "execution_count": 2,
      "outputs": [
        {
          "output_type": "stream",
          "text": [
            "0.8.3\n"
          ],
          "name": "stdout"
        }
      ]
    },
    {
      "cell_type": "markdown",
      "metadata": {
        "id": "hwdyuFbJ5hkK",
        "colab_type": "text"
      },
      "source": [
        "# NDVI 101"
      ]
    },
    {
      "cell_type": "markdown",
      "metadata": {
        "id": "Pu51_ttKdSS2",
        "colab_type": "text"
      },
      "source": [
        "The normalised difference vegeation index (NDVI) is a simple graphical indicator that can be used to analyze remote sensing assessed greenness of vegetation.\n",
        "\n",
        ">$NDVI=(NIR-R)/(NIR+R)$"
      ]
    },
    {
      "cell_type": "code",
      "metadata": {
        "id": "DP1Wm8XJd-oo",
        "colab_type": "code",
        "colab": {}
      },
      "source": [
        "def addNDVI(img):\n",
        "    \"\"\"A function to compute Sentinel-2 NDVI.\"\"\"\n",
        "    ndvi = img.expression('float(b(\"B8\") - b(\"B4\")) / (b(\"B8\") + b(\"B4\"))').rename('ndvi')   \n",
        "    return img.addBands([ndvi])"
      ],
      "execution_count": 0,
      "outputs": []
    },
    {
      "cell_type": "code",
      "metadata": {
        "id": "eJbswvZCxXe-",
        "colab_type": "code",
        "colab": {}
      },
      "source": [
        "def ESAcloudMask(img):\n",
        "    ''' Sentinel-2 Bits 10 & 11 are clouds & cirrus, so set to 0. '''\n",
        "    qa = img.select('QA60')\n",
        "    cloudBitMask = int(2**10)\n",
        "    cirrusBitMask = int(2**11)\n",
        "    clear = qa.bitwiseAnd(cloudBitMask).eq(0).And(\\\n",
        "           qa.bitwiseAnd(cirrusBitMask).eq(0))\n",
        "    return img.updateMask(clear) "
      ],
      "execution_count": 0,
      "outputs": []
    },
    {
      "cell_type": "code",
      "metadata": {
        "id": "k7e-NjQ7rnD8",
        "colab_type": "code",
        "colab": {}
      },
      "source": [
        "# // This function adds a band representing the image timestamp.\n",
        "def addTime(image):\n",
        "  # Convert milliseconds from epoch to years to aid in interpretation of the following trend calculation.\n",
        "  return image.addBands(image.metadata('system:time_start').divide(1000 * 60 * 60 * 24 * 365))\n"
      ],
      "execution_count": 0,
      "outputs": []
    },
    {
      "cell_type": "code",
      "metadata": {
        "id": "jtljnY8IfOGN",
        "colab_type": "code",
        "colab": {}
      },
      "source": [
        "def s2col_monthly(feat):\n",
        "      bandNamesAll = ['ndvi']\n",
        "      monthDifference = ee.Date('2019-01-01').advance(1, 'month').millis().subtract(ee.Date('2019-01-01').millis());\n",
        "      listMap = ee.List.sequence(ee.Date('2016-01-01').millis(), ee.Date('2020-01-01').millis(), monthDifference);\n",
        "\n",
        "      s2monthIC = (ee.ImageCollection.fromImages(listMap.map(lambda dateMillis: (\n",
        "         (ee.ImageCollection('COPERNICUS/S2')\n",
        "                            .filterBounds(feat)\n",
        "                            .filter(ee.Filter.And(\n",
        "                              ee.Filter.date(ee.Date(dateMillis), ee.Date(dateMillis).advance(1, 'month')),\n",
        "                              ee.Filter.lt('CLOUDY_PIXEL_PERCENTAGE', 90)))\n",
        "                            .map(ESAcloudMask)\n",
        "                            \n",
        "                            )\n",
        "         .median()\n",
        "         .clip(feat)\n",
        "         .set('system:time_start',dateMillis)\n",
        "         .set('year', ee.Date(dateMillis).get('year'))\n",
        "         .set('month', ee.Date(dateMillis).get('month'))\n",
        "         )\n",
        "      )))\n",
        "      \n",
        "      return s2monthIC.map(addNDVI).select(bandNamesAll).map(addTime)"
      ],
      "execution_count": 0,
      "outputs": []
    },
    {
      "cell_type": "code",
      "metadata": {
        "id": "D_gdSqkDzBRT",
        "colab_type": "code",
        "colab": {}
      },
      "source": [
        "AOI = ee.Geometry.Polygon(\n",
        "        [[[\n",
        "              89.40673828125,\n",
        "              21.37124437061831\n",
        "            ],\n",
        "            [\n",
        "              90.90087890624999,\n",
        "              21.37124437061831\n",
        "            ],\n",
        "            [\n",
        "              90.90087890624999,\n",
        "              22.471954507739227\n",
        "            ],\n",
        "            [\n",
        "              89.40673828125,\n",
        "              22.471954507739227\n",
        "            ],\n",
        "            [\n",
        "              89.40673828125,\n",
        "              21.37124437061831\n",
        "            ]]])"
      ],
      "execution_count": 0,
      "outputs": []
    },
    {
      "cell_type": "code",
      "metadata": {
        "id": "rgbFz6cezlgM",
        "colab_type": "code",
        "colab": {
          "base_uri": "https://localhost:8080/",
          "height": 532
        },
        "outputId": "6f9a3c55-d224-4d16-b558-464fc76a344d"
      },
      "source": [
        "# Fetch a Sentinel-2 monthly images.\n",
        "imgs = s2col_monthly(AOI)\n",
        "pprint ({'Sentinel-2 Monthly Images since Jan, 2016': imgs.size().getInfo()})\n",
        "pprint ({'Sentinel-2 Monthly Image': imgs.first().getInfo()})"
      ],
      "execution_count": 54,
      "outputs": [
        {
          "output_type": "stream",
          "text": [
            "{'Sentinel-2 Monthly Images since Jan, 2016': 48}\n",
            "{'Sentinel-2 Monthly Image': {'bands': [{'crs': 'EPSG:4326',\n",
            "                                         'crs_transform': [1, 0, 0, 0, 1, 0],\n",
            "                                         'data_type': {'precision': 'double',\n",
            "                                                       'type': 'PixelType'},\n",
            "                                         'dimensions': [2, 2],\n",
            "                                         'id': 'ndvi',\n",
            "                                         'origin': [89, 21]},\n",
            "                                        {'crs': 'EPSG:4326',\n",
            "                                         'crs_transform': [1, 0, 0, 0, 1, 0],\n",
            "                                         'data_type': {'precision': 'double',\n",
            "                                                       'type': 'PixelType'},\n",
            "                                         'id': 'system:time_start'}],\n",
            "                              'properties': {'month': 1,\n",
            "                                             'system:footprint': {'coordinates': [[[89.40673828125,\n",
            "                                                                                    21.37124437061831],\n",
            "                                                                                   [90.90087890624999,\n",
            "                                                                                    21.37124437061831],\n",
            "                                                                                   [90.90087890624999,\n",
            "                                                                                    22.471954507739227],\n",
            "                                                                                   [89.40673828125,\n",
            "                                                                                    22.471954507739227],\n",
            "                                                                                   [89.40673828125,\n",
            "                                                                                    21.37124437061831]]],\n",
            "                                                                  'type': 'Polygon'},\n",
            "                                             'system:index': '0',\n",
            "                                             'system:time_start': 1451606400000,\n",
            "                                             'year': 2016},\n",
            "                              'type': 'Image'}}\n"
          ],
          "name": "stdout"
        }
      ]
    },
    {
      "cell_type": "code",
      "metadata": {
        "id": "vUio0Db-ETYG",
        "colab_type": "code",
        "colab": {
          "base_uri": "https://localhost:8080/",
          "height": 212
        },
        "outputId": "e058aa7a-b644-467d-8009-22aca75a18e4"
      },
      "source": [
        "#  Select the bands to model with the independent variable first.\n",
        "trend = imgs.select(['system:time_start', 'ndvi']).reduce(ee.Reducer.linearFit())# Compute the linear trend over time.\n",
        "pprint ({'Sentinel-2 Trend Image': trend.getInfo()})"
      ],
      "execution_count": 40,
      "outputs": [
        {
          "output_type": "stream",
          "text": [
            "{'Sentinel-2 Trend Image': {'bands': [{'crs': 'EPSG:4326',\n",
            "                                       'crs_transform': [1, 0, 0, 0, 1, 0],\n",
            "                                       'data_type': {'precision': 'double',\n",
            "                                                     'type': 'PixelType'},\n",
            "                                       'id': 'scale'},\n",
            "                                      {'crs': 'EPSG:4326',\n",
            "                                       'crs_transform': [1, 0, 0, 0, 1, 0],\n",
            "                                       'data_type': {'precision': 'double',\n",
            "                                                     'type': 'PixelType'},\n",
            "                                       'id': 'offset'}],\n",
            "                            'type': 'Image'}}\n"
          ],
          "name": "stdout"
        }
      ]
    },
    {
      "cell_type": "code",
      "metadata": {
        "id": "qP84EmWAzbv6",
        "colab_type": "code",
        "outputId": "a92cd398-67de-4713-f68b-68d837b57f2e",
        "colab": {
          "base_uri": "https://localhost:8080/",
          "height": 1000
        }
      },
      "source": [
        "orange2greenPalette = [\n",
        "    'FFFFFF', 'CE7E45', 'DF923D', 'F1B555', 'FCD163', '99B718', '74A901',\n",
        "    '66A000', '529400', '3E8601', '207401', '056201', '004C00', '023B01',\n",
        "    '012E01', '011D01', '011301'\n",
        "  ]\n",
        "mapid = trend.getMapId({'bands': ['scale'], 'min': -0.1, 'max': 0.1, 'palette': orange2greenPalette})\n",
        "map = folium.Map(location=[22., 90.], zoom_start=10)\n",
        "# Add custom basemaps\n",
        "basemaps['Google Maps'].add_to(map)\n",
        "basemaps['Google Satellite Hybrid'].add_to(map)\n",
        "folium.TileLayer(\n",
        "    tiles=mapid['tile_fetcher'].url_format,\n",
        "    attr='Map Data &copy; <a href=\"https://earthengine.google.com/\">Google Earth Engine</a>',\n",
        "    overlay=True,\n",
        "    name='Sentinel-2 Trend Map 2016-2019',\n",
        "  ).add_to(map)\n",
        "map.add_child(folium.LayerControl())\n",
        "map"
      ],
      "execution_count": 57,
      "outputs": [
        {
          "output_type": "execute_result",
          "data": {
            "text/html": [
              "<div style=\"width:100%;\"><div style=\"position:relative;width:100%;height:0;padding-bottom:60%;\"><iframe src=\"about:blank\" style=\"position:absolute;width:100%;height:100%;left:0;top:0;border:none !important;\" data-html=PCFET0NUWVBFIGh0bWw+CjxoZWFkPiAgICAKICAgIDxtZXRhIGh0dHAtZXF1aXY9ImNvbnRlbnQtdHlwZSIgY29udGVudD0idGV4dC9odG1sOyBjaGFyc2V0PVVURi04IiAvPgogICAgPHNjcmlwdD5MX1BSRUZFUl9DQU5WQVM9ZmFsc2U7IExfTk9fVE9VQ0g9ZmFsc2U7IExfRElTQUJMRV8zRD1mYWxzZTs8L3NjcmlwdD4KICAgIDxzY3JpcHQgc3JjPSJodHRwczovL2Nkbi5qc2RlbGl2ci5uZXQvbnBtL2xlYWZsZXRAMS40LjAvZGlzdC9sZWFmbGV0LmpzIj48L3NjcmlwdD4KICAgIDxzY3JpcHQgc3JjPSJodHRwczovL2NvZGUuanF1ZXJ5LmNvbS9qcXVlcnktMS4xMi40Lm1pbi5qcyI+PC9zY3JpcHQ+CiAgICA8c2NyaXB0IHNyYz0iaHR0cHM6Ly9tYXhjZG4uYm9vdHN0cmFwY2RuLmNvbS9ib290c3RyYXAvMy4yLjAvanMvYm9vdHN0cmFwLm1pbi5qcyI+PC9zY3JpcHQ+CiAgICA8c2NyaXB0IHNyYz0iaHR0cHM6Ly9jZG5qcy5jbG91ZGZsYXJlLmNvbS9hamF4L2xpYnMvTGVhZmxldC5hd2Vzb21lLW1hcmtlcnMvMi4wLjIvbGVhZmxldC5hd2Vzb21lLW1hcmtlcnMuanMiPjwvc2NyaXB0PgogICAgPGxpbmsgcmVsPSJzdHlsZXNoZWV0IiBocmVmPSJodHRwczovL2Nkbi5qc2RlbGl2ci5uZXQvbnBtL2xlYWZsZXRAMS40LjAvZGlzdC9sZWFmbGV0LmNzcyIvPgogICAgPGxpbmsgcmVsPSJzdHlsZXNoZWV0IiBocmVmPSJodHRwczovL21heGNkbi5ib290c3RyYXBjZG4uY29tL2Jvb3RzdHJhcC8zLjIuMC9jc3MvYm9vdHN0cmFwLm1pbi5jc3MiLz4KICAgIDxsaW5rIHJlbD0ic3R5bGVzaGVldCIgaHJlZj0iaHR0cHM6Ly9tYXhjZG4uYm9vdHN0cmFwY2RuLmNvbS9ib290c3RyYXAvMy4yLjAvY3NzL2Jvb3RzdHJhcC10aGVtZS5taW4uY3NzIi8+CiAgICA8bGluayByZWw9InN0eWxlc2hlZXQiIGhyZWY9Imh0dHBzOi8vbWF4Y2RuLmJvb3RzdHJhcGNkbi5jb20vZm9udC1hd2Vzb21lLzQuNi4zL2Nzcy9mb250LWF3ZXNvbWUubWluLmNzcyIvPgogICAgPGxpbmsgcmVsPSJzdHlsZXNoZWV0IiBocmVmPSJodHRwczovL2NkbmpzLmNsb3VkZmxhcmUuY29tL2FqYXgvbGlicy9MZWFmbGV0LmF3ZXNvbWUtbWFya2Vycy8yLjAuMi9sZWFmbGV0LmF3ZXNvbWUtbWFya2Vycy5jc3MiLz4KICAgIDxsaW5rIHJlbD0ic3R5bGVzaGVldCIgaHJlZj0iaHR0cHM6Ly9yYXdjZG4uZ2l0aGFjay5jb20vcHl0aG9uLXZpc3VhbGl6YXRpb24vZm9saXVtL21hc3Rlci9mb2xpdW0vdGVtcGxhdGVzL2xlYWZsZXQuYXdlc29tZS5yb3RhdGUuY3NzIi8+CiAgICA8c3R5bGU+aHRtbCwgYm9keSB7d2lkdGg6IDEwMCU7aGVpZ2h0OiAxMDAlO21hcmdpbjogMDtwYWRkaW5nOiAwO308L3N0eWxlPgogICAgPHN0eWxlPiNtYXAge3Bvc2l0aW9uOmFic29sdXRlO3RvcDowO2JvdHRvbTowO3JpZ2h0OjA7bGVmdDowO308L3N0eWxlPgogICAgCiAgICA8bWV0YSBuYW1lPSJ2aWV3cG9ydCIgY29udGVudD0id2lkdGg9ZGV2aWNlLXdpZHRoLAogICAgICAgIGluaXRpYWwtc2NhbGU9MS4wLCBtYXhpbXVtLXNjYWxlPTEuMCwgdXNlci1zY2FsYWJsZT1ubyIgLz4KICAgIDxzdHlsZT4jbWFwX2NlMDExMzMwNWFkODRiM2ZhMmMwNzk3ZDg1MGM1MDIxIHsKICAgICAgICBwb3NpdGlvbjogcmVsYXRpdmU7CiAgICAgICAgd2lkdGg6IDEwMC4wJTsKICAgICAgICBoZWlnaHQ6IDEwMC4wJTsKICAgICAgICBsZWZ0OiAwLjAlOwogICAgICAgIHRvcDogMC4wJTsKICAgICAgICB9CiAgICA8L3N0eWxlPgo8L2hlYWQ+Cjxib2R5PiAgICAKICAgIAogICAgPGRpdiBjbGFzcz0iZm9saXVtLW1hcCIgaWQ9Im1hcF9jZTAxMTMzMDVhZDg0YjNmYTJjMDc5N2Q4NTBjNTAyMSIgPjwvZGl2Pgo8L2JvZHk+CjxzY3JpcHQ+ICAgIAogICAgCiAgICAKICAgICAgICB2YXIgYm91bmRzID0gbnVsbDsKICAgIAoKICAgIHZhciBtYXBfY2UwMTEzMzA1YWQ4NGIzZmEyYzA3OTdkODUwYzUwMjEgPSBMLm1hcCgKICAgICAgICAnbWFwX2NlMDExMzMwNWFkODRiM2ZhMmMwNzk3ZDg1MGM1MDIxJywgewogICAgICAgIGNlbnRlcjogWzIyLjAsIDkwLjBdLAogICAgICAgIHpvb206IDEwLAogICAgICAgIG1heEJvdW5kczogYm91bmRzLAogICAgICAgIGxheWVyczogW10sCiAgICAgICAgd29ybGRDb3B5SnVtcDogZmFsc2UsCiAgICAgICAgY3JzOiBMLkNSUy5FUFNHMzg1NywKICAgICAgICB6b29tQ29udHJvbDogdHJ1ZSwKICAgICAgICB9KTsKCgogICAgCiAgICB2YXIgdGlsZV9sYXllcl8wNWQwY2NjYWYxNGQ0ZDBjOTVjOWYwNTAxYTVmMTAwOSA9IEwudGlsZUxheWVyKAogICAgICAgICdodHRwczovL3tzfS50aWxlLm9wZW5zdHJlZXRtYXAub3JnL3t6fS97eH0ve3l9LnBuZycsCiAgICAgICAgewogICAgICAgICJhdHRyaWJ1dGlvbiI6IG51bGwsCiAgICAgICAgImRldGVjdFJldGluYSI6IGZhbHNlLAogICAgICAgICJtYXhOYXRpdmVab29tIjogMTgsCiAgICAgICAgIm1heFpvb20iOiAxOCwKICAgICAgICAibWluWm9vbSI6IDAsCiAgICAgICAgIm5vV3JhcCI6IGZhbHNlLAogICAgICAgICJvcGFjaXR5IjogMSwKICAgICAgICAic3ViZG9tYWlucyI6ICJhYmMiLAogICAgICAgICJ0bXMiOiBmYWxzZQp9KS5hZGRUbyhtYXBfY2UwMTEzMzA1YWQ4NGIzZmEyYzA3OTdkODUwYzUwMjEpOwogICAgdmFyIHRpbGVfbGF5ZXJfOWJlMzUyMzQwMmIwNDhjY2FiZDc1MTBmMmZmZmU3ODQgPSBMLnRpbGVMYXllcigKICAgICAgICAnaHR0cHM6Ly9tdDEuZ29vZ2xlLmNvbS92dC9seXJzPW0meD17eH0meT17eX0mej17en0nLAogICAgICAgIHsKICAgICAgICAiYXR0cmlidXRpb24iOiAiR29vZ2xlIiwKICAgICAgICAiZGV0ZWN0UmV0aW5hIjogZmFsc2UsCiAgICAgICAgIm1heE5hdGl2ZVpvb20iOiAxOCwKICAgICAgICAibWF4Wm9vbSI6IDE4LAogICAgICAgICJtaW5ab29tIjogMCwKICAgICAgICAibm9XcmFwIjogZmFsc2UsCiAgICAgICAgIm9wYWNpdHkiOiAxLAogICAgICAgICJzdWJkb21haW5zIjogImFiYyIsCiAgICAgICAgInRtcyI6IGZhbHNlCn0pLmFkZFRvKG1hcF9jZTAxMTMzMDVhZDg0YjNmYTJjMDc5N2Q4NTBjNTAyMSk7CiAgICB2YXIgdGlsZV9sYXllcl82ZmIxYWVkOTM3ZDc0Y2ZiODhmMTg5MGNjMTUwZjhhOSA9IEwudGlsZUxheWVyKAogICAgICAgICdodHRwczovL210MS5nb29nbGUuY29tL3Z0L2x5cnM9eSZ4PXt4fSZ5PXt5fSZ6PXt6fScsCiAgICAgICAgewogICAgICAgICJhdHRyaWJ1dGlvbiI6ICJHb29nbGUiLAogICAgICAgICJkZXRlY3RSZXRpbmEiOiBmYWxzZSwKICAgICAgICAibWF4TmF0aXZlWm9vbSI6IDE4LAogICAgICAgICJtYXhab29tIjogMTgsCiAgICAgICAgIm1pblpvb20iOiAwLAogICAgICAgICJub1dyYXAiOiBmYWxzZSwKICAgICAgICAib3BhY2l0eSI6IDEsCiAgICAgICAgInN1YmRvbWFpbnMiOiAiYWJjIiwKICAgICAgICAidG1zIjogZmFsc2UKfSkuYWRkVG8obWFwX2NlMDExMzMwNWFkODRiM2ZhMmMwNzk3ZDg1MGM1MDIxKTsKICAgIHZhciB0aWxlX2xheWVyXzcxMmQ1ZGI1M2JmNDRiMjliYmViMmEwMWEzMjRhMGVjID0gTC50aWxlTGF5ZXIoCiAgICAgICAgJ2h0dHBzOi8vZWFydGhlbmdpbmUuZ29vZ2xlYXBpcy5jb20vdjFhbHBoYS9wcm9qZWN0cy9lYXJ0aGVuZ2luZS1sZWdhY3kvbWFwcy81ZTE4ZmZjNmMyNWEyMDFkMDc4MmY3MmZkMTAyMjlkYS04MjI4MzcxZGU1YWEwN2JlZjk0ZDNiNzQxNzRkZTA4Yi90aWxlcy97en0ve3h9L3t5fScsCiAgICAgICAgewogICAgICAgICJhdHRyaWJ1dGlvbiI6ICJNYXAgRGF0YSAmY29weTsgPGEgaHJlZj1cImh0dHBzOi8vZWFydGhlbmdpbmUuZ29vZ2xlLmNvbS9cIj5Hb29nbGUgRWFydGggRW5naW5lPC9hPiIsCiAgICAgICAgImRldGVjdFJldGluYSI6IGZhbHNlLAogICAgICAgICJtYXhOYXRpdmVab29tIjogMTgsCiAgICAgICAgIm1heFpvb20iOiAxOCwKICAgICAgICAibWluWm9vbSI6IDAsCiAgICAgICAgIm5vV3JhcCI6IGZhbHNlLAogICAgICAgICJvcGFjaXR5IjogMSwKICAgICAgICAic3ViZG9tYWlucyI6ICJhYmMiLAogICAgICAgICJ0bXMiOiBmYWxzZQp9KS5hZGRUbyhtYXBfY2UwMTEzMzA1YWQ4NGIzZmEyYzA3OTdkODUwYzUwMjEpOwogICAgCiAgICAgICAgICAgIHZhciBsYXllcl9jb250cm9sXzI3MzM0NDU2NWQ1MzQ0ZDA4YWZjN2Y1YjRhM2JjNWQwID0gewogICAgICAgICAgICAgICAgYmFzZV9sYXllcnMgOiB7ICJvcGVuc3RyZWV0bWFwIiA6IHRpbGVfbGF5ZXJfMDVkMGNjY2FmMTRkNGQwYzk1YzlmMDUwMWE1ZjEwMDksIH0sCiAgICAgICAgICAgICAgICBvdmVybGF5cyA6IHsgIkdvb2dsZSBNYXBzIiA6IHRpbGVfbGF5ZXJfOWJlMzUyMzQwMmIwNDhjY2FiZDc1MTBmMmZmZmU3ODQsIkdvb2dsZSBTYXRlbGxpdGUiIDogdGlsZV9sYXllcl82ZmIxYWVkOTM3ZDc0Y2ZiODhmMTg5MGNjMTUwZjhhOSwiU2VudGluZWwtMiBUcmVuZCBNYXAgMjAxNi0yMDE5IiA6IHRpbGVfbGF5ZXJfNzEyZDVkYjUzYmY0NGIyOWJiZWIyYTAxYTMyNGEwZWMsIH0KICAgICAgICAgICAgICAgIH07CiAgICAgICAgICAgIEwuY29udHJvbC5sYXllcnMoCiAgICAgICAgICAgICAgICBsYXllcl9jb250cm9sXzI3MzM0NDU2NWQ1MzQ0ZDA4YWZjN2Y1YjRhM2JjNWQwLmJhc2VfbGF5ZXJzLAogICAgICAgICAgICAgICAgbGF5ZXJfY29udHJvbF8yNzMzNDQ1NjVkNTM0NGQwOGFmYzdmNWI0YTNiYzVkMC5vdmVybGF5cywKICAgICAgICAgICAgICAgIHtwb3NpdGlvbjogJ3RvcHJpZ2h0JywKICAgICAgICAgICAgICAgICBjb2xsYXBzZWQ6IHRydWUsCiAgICAgICAgICAgICAgICAgYXV0b1pJbmRleDogdHJ1ZQogICAgICAgICAgICAgICAgfSkuYWRkVG8obWFwX2NlMDExMzMwNWFkODRiM2ZhMmMwNzk3ZDg1MGM1MDIxKTsKICAgICAgICAgICAgCiAgICAgICAgCjwvc2NyaXB0Pg== onload=\"this.contentDocument.open();this.contentDocument.write(atob(this.getAttribute('data-html')));this.contentDocument.close();\" allowfullscreen webkitallowfullscreen mozallowfullscreen></iframe></div></div>"
            ],
            "text/plain": [
              "<folium.folium.Map at 0x7fc99f9b2048>"
            ]
          },
          "metadata": {
            "tags": []
          },
          "execution_count": 57
        }
      ]
    },
    {
      "cell_type": "code",
      "metadata": {
        "id": "mSuFmQXaRICD",
        "colab_type": "code",
        "colab": {
          "base_uri": "https://localhost:8080/",
          "height": 1000
        },
        "outputId": "9b54a4f9-14cd-4414-ae30-38e4c612a782"
      },
      "source": [
        "# change the number to any value between 1988 and 2019, then the according year ESI image will be displayed below, the greener the image is, the high potential of salinized soil concurs\n",
        "yearIDstart = 2016\n",
        "yearIDend = 2019\n",
        "monthID = 2\n",
        "\n",
        "mapid = imgs.select('ndvi').filter(ee.Filter.eq('year',yearIDstart)).filter(ee.Filter.eq('monthID',monthID)).getMapId({'min': -0.8, 'max': 0.8, 'palette': orange2greenPalette})\n",
        "mapid1 = imgs.select('ndvi').filter(ee.Filter.eq('year',yearIDend)).filter(ee.Filter.eq('monthID',monthID)).getMapId({'min': -0.8, 'max': 0.8, 'palette': orange2greenPalette})\n",
        "map = folium.Map(location=[22., 90.], zoom_start=7)\n",
        "folium.TileLayer(\n",
        "    tiles=mapid1['tile_fetcher'].url_format,\n",
        "    attr='Map Data &copy; <a href=\"https://earthengine.google.com/\">Google Earth Engine</a>',\n",
        "    overlay=True,\n",
        "    name=f'Sentinel NDVI for year {yearIDstart} and month {monthID}',\n",
        "  ).add_to(map)\n",
        "\n",
        "folium.TileLayer(\n",
        "    tiles=mapid['tile_fetcher'].url_format,\n",
        "    attr='Map Data &copy; <a href=\"https://earthengine.google.com/\">Google Earth Engine</a>',\n",
        "    overlay=True,\n",
        "    name=f'Sentinel NDVI for year {yearIDend} and month {monthID}',\n",
        "  ).add_to(map)\n",
        "map.add_child(folium.LayerControl())\n",
        "map"
      ],
      "execution_count": 61,
      "outputs": [
        {
          "output_type": "execute_result",
          "data": {
            "text/html": [
              "<div style=\"width:100%;\"><div style=\"position:relative;width:100%;height:0;padding-bottom:60%;\"><iframe src=\"about:blank\" style=\"position:absolute;width:100%;height:100%;left:0;top:0;border:none !important;\" data-html=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 onload=\"this.contentDocument.open();this.contentDocument.write(atob(this.getAttribute('data-html')));this.contentDocument.close();\" allowfullscreen webkitallowfullscreen mozallowfullscreen></iframe></div></div>"
            ],
            "text/plain": [
              "<folium.folium.Map at 0x7fc99f9251d0>"
            ]
          },
          "metadata": {
            "tags": []
          },
          "execution_count": 61
        }
      ]
    },
    {
      "cell_type": "code",
      "metadata": {
        "id": "oG6iq9uGxd9-",
        "colab_type": "code",
        "colab": {}
      },
      "source": [
        "# Import the matplotlib.pyplot module.\n",
        "import matplotlib.pyplot as plt\n",
        "from pprint import pprint\n",
        "\n",
        "# Select NDVI, scale them, and sample 500 points.\n",
        "water = ee.Geometry.Point([\n",
        "          89.89700317382812,\n",
        "          22.11999383809455\n",
        "        ])\n",
        "samp_fc = img.sample(region=water,scale=10)\n",
        "\n",
        "# Save server-side ee.List as a client-side Python list.\n",
        "samp_data = samp_fc.toDictionary().values().getInfo()\n",
        "\n",
        "# # Display a scatter plot of Red-NIR sample pairs using matplotlib.\n",
        "# plt.scatter(samp_data[0], samp_data[1], alpha=0.2)\n",
        "# plt.xlabel('Red', fontsize=12)\n",
        "# plt.ylabel('NIR', fontsize=12)\n",
        "# plt.show()"
      ],
      "execution_count": 0,
      "outputs": []
    },
    {
      "cell_type": "code",
      "metadata": {
        "id": "BCdrd_aC34Bu",
        "colab_type": "code",
        "outputId": "09caf642-cffd-4961-f2f9-b92e39283c14",
        "colab": {
          "base_uri": "https://localhost:8080/",
          "height": 230
        }
      },
      "source": [
        "pprint ({'test:':samp_data[0]})"
      ],
      "execution_count": 0,
      "outputs": [
        {
          "output_type": "stream",
          "text": [
            "{'test:': ['0_ndvi',\n",
            "           '1_ndvi',\n",
            "           '2_ndvi',\n",
            "           '3_ndvi',\n",
            "           '4_ndvi',\n",
            "           '5_ndvi',\n",
            "           '6_ndvi',\n",
            "           '7_ndvi',\n",
            "           '8_ndvi',\n",
            "           '9_ndvi',\n",
            "           '10_ndvi',\n",
            "           '11_ndvi']}\n"
          ],
          "name": "stdout"
        }
      ]
    },
    {
      "cell_type": "code",
      "metadata": {
        "id": "9yZbJ27j8IwQ",
        "colab_type": "code",
        "colab": {}
      },
      "source": [
        "# Arrange the sample as a list of lists.\n",
        "samp_fc = img.sample(scale=10, numPixels=500)\n",
        "samp_dict = samp_fc.reduceColumns(ee.Reducer.toList().repeat(12), ['0_ndvi','1_ndvi','2_ndvi','3_ndvi','4_ndvi','5_ndvi','6_ndvi','7_ndvi','8_ndvi','9_ndvi','10_ndvi','11_ndvi'])\n",
        "samp_list = ee.List(samp_dict.get('list'))\n",
        "\n",
        "# Save server-side ee.List as a client-side Python list.\n",
        "samp_data = samp_list.getInfo()"
      ],
      "execution_count": 0,
      "outputs": []
    },
    {
      "cell_type": "code",
      "metadata": {
        "id": "8VUfTIKz8mgB",
        "colab_type": "code",
        "outputId": "6be503b9-707c-4594-fcb0-65ec4ccc83de",
        "colab": {
          "base_uri": "https://localhost:8080/",
          "height": 35
        }
      },
      "source": [
        "print (len(samp_data[0]))"
      ],
      "execution_count": 0,
      "outputs": [
        {
          "output_type": "stream",
          "text": [
            "270\n"
          ],
          "name": "stdout"
        }
      ]
    }
  ]
}